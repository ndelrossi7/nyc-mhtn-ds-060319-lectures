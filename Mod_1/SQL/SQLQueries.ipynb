{
 "cells": [
  {
   "cell_type": "markdown",
   "metadata": {},
   "source": [
    "<h1 style='text-align: center'>SQL Queries</h1>"
   ]
  },
  {
   "cell_type": "markdown",
   "metadata": {},
   "source": [
    "## Getting Data From A SQL Database"
   ]
  },
  {
   "cell_type": "markdown",
   "metadata": {},
   "source": [
    "### The Structure of a SQL Query"
   ]
  },
  {
   "cell_type": "markdown",
   "metadata": {},
   "source": [
    "<img src='images/sql_statement.jpg'/>"
   ]
  },
  {
   "cell_type": "markdown",
   "metadata": {},
   "source": [
    "#### SELECT"
   ]
  },
  {
   "cell_type": "markdown",
   "metadata": {},
   "source": [
    "- What columns of data do we want? \n",
    "- Specify by column names or * (All) "
   ]
  },
  {
   "cell_type": "markdown",
   "metadata": {},
   "source": [
    "- Where are we getting our data from? \n",
    "- Specify by table name or use join statement to join multiple tables"
   ]
  },
  {
   "cell_type": "markdown",
   "metadata": {},
   "source": [
    "##### JOIN "
   ]
  },
  {
   "cell_type": "markdown",
   "metadata": {},
   "source": [
    "- Use to join multiple tables \n",
    "- SELECT * FROM students join favorite_foods on students.id = favorite_foods.student_id\n",
    "- SELECT * FROM students as s join favorite_foods as f on s.id = f.student_id"
   ]
  },
  {
   "cell_type": "markdown",
   "metadata": {},
   "source": [
    "#### WHERE"
   ]
  },
  {
   "cell_type": "markdown",
   "metadata": {},
   "source": [
    "- apply some filter to the data you are querying \n",
    "- define criteria for data that should selected from the database \n",
    "- SELECT * from students WHERE age > 10 "
   ]
  },
  {
   "cell_type": "markdown",
   "metadata": {},
   "source": [
    "#### GROUP BY"
   ]
  },
  {
   "cell_type": "markdown",
   "metadata": {},
   "source": [
    "- Group columns by similar values\n",
    "- SELECT COUNT(id), city from students GROUP BY city"
   ]
  },
  {
   "cell_type": "markdown",
   "metadata": {},
   "source": [
    "#### HAVING"
   ]
  },
  {
   "cell_type": "markdown",
   "metadata": {},
   "source": [
    "- Use to apply filter AFTER you have made your initial query \n",
    "- When should we use HAVING instead of WHERE"
   ]
  },
  {
   "cell_type": "code",
   "execution_count": null,
   "metadata": {},
   "outputs": [],
   "source": []
  },
  {
   "cell_type": "code",
   "execution_count": 5,
   "metadata": {},
   "outputs": [],
   "source": [
    "import sqlite3\n",
    "\n",
    "conn = sqlite3.connect('tutorial.db')\n",
    "c = conn.cursor()"
   ]
  },
  {
   "cell_type": "code",
   "execution_count": 7,
   "metadata": {},
   "outputs": [
    {
     "data": {
      "text/plain": [
       "[{'name': 'Sean Abu Wilson',\n",
       "  'birthdate': '02/06',\n",
       "  'siblings': 2,\n",
       "  'Birthplace': 'Birmingham, AL',\n",
       "  'yearsinnyc': 7.8,\n",
       "  'favoritefood': 'guacamole'},\n",
       " {'name': 'Tawab',\n",
       "  'birthdate': '04/08/1998',\n",
       "  'siblings': 4,\n",
       "  'Birthplace': 'Afghanistan',\n",
       "  'yearsinnyc': 0.5,\n",
       "  'favoritefood': 'pizza'},\n",
       " {'name': 'Bridget Boakye',\n",
       "  'birthdate': '1990-07-13',\n",
       "  'siblings': 3,\n",
       "  'Birthplace': 'Accra',\n",
       "  'yearsinnyc': 15,\n",
       "  'favoritefood': 'Indian'},\n",
       " {'name': 'Cristina',\n",
       "  'birthdate': '9/9/1990',\n",
       "  'siblings': 2,\n",
       "  'Birthplace': 'Spain',\n",
       "  'yearsinnyc': 6,\n",
       "  'favoritefood': 'Sushi'},\n",
       " {'name': 'Danny (Haoyang) Yu',\n",
       "  'birthdate': '1997-03-19',\n",
       "  'siblings': 2,\n",
       "  'Birthplace': '1997-03-19',\n",
       "  'yearsinnyc': 0,\n",
       "  'favoritefood': 'Galbi'},\n",
       " {'name': 'Dustin_Breitner',\n",
       "  'birthdate': '04/15/94',\n",
       "  'siblings': 2,\n",
       "  'Birthplace': 'New_York',\n",
       "  'yearsinnyc': 3,\n",
       "  'favoritefood': 'Pizza'},\n",
       " {'name': 'Gregory DeSantis',\n",
       "  'birthdate': '1987-11-23',\n",
       "  'siblings': 2,\n",
       "  'Birthplace': 'Highland Park, NJ',\n",
       "  'yearsinnyc': 13,\n",
       "  'favoritefood': 'Pizza'},\n",
       " {'name': 'Harrison Miller',\n",
       "  'birthdate': '10/2/85',\n",
       "  'siblings': 0,\n",
       "  'Birthplace': 'New Jersey',\n",
       "  'yearsinnyc': 0,\n",
       "  'favoritefood': 'Pizza'},\n",
       " {'name': 'Jeremy Owens',\n",
       "  'birthdate': '03/30/1990',\n",
       "  'siblings': 0,\n",
       "  'Birthplace': 'Virginia',\n",
       "  'yearsinnyc': 6,\n",
       "  'favoritefood': 'Avocado'},\n",
       " {'name': 'Jeremy Reikes',\n",
       "  'birthdate': '1-/12/1995',\n",
       "  'siblings': 1,\n",
       "  'Birthplace': 'New York City',\n",
       "  'yearsinnyc': 23,\n",
       "  'favoritefood': 'Pizza'},\n",
       " {'name': 'Johnathan Peck',\n",
       "  'birthdate': '02-19-1994',\n",
       "  'siblings': 2,\n",
       "  'Birthplace': 'New York',\n",
       "  'yearsinnyc': 25,\n",
       "  'favoritefood': 'Moms food'},\n",
       " {'name': 'Minna F',\n",
       "  'birthdate': '11-19-1996',\n",
       "  'siblings': 3,\n",
       "  'Birthplace': 'San Francisco',\n",
       "  'yearsinnyc': 1,\n",
       "  'favoritefood': 'sushi'},\n",
       " {'name': 'Nabil Abbas',\n",
       "  'birthdate': '12-07-1994',\n",
       "  'siblings': 2,\n",
       "  'Birthplace': 'Long Island',\n",
       "  'yearsinnyc': 6,\n",
       "  'favoritefood': 'Gyro'},\n",
       " {'name': 'Natalie Del Rossi',\n",
       "  'birthdate': '10-23-1994',\n",
       "  'siblings': 0,\n",
       "  'Birthplace': 'Brooklyn',\n",
       "  'yearsinnyc': 18,\n",
       "  'favoritefood': 'pizza'},\n",
       " {'name': 'Remy Canario',\n",
       "  'birthdate': '10-11-1988',\n",
       "  'siblings': 0,\n",
       "  'Birthplace': 'New York',\n",
       "  'yearsinnyc': 28,\n",
       "  'favoritefood': 'toast'},\n",
       " {'name': 'Xristos Katsaros',\n",
       "  'birthdate': '03-24-1986',\n",
       "  'siblings': 1,\n",
       "  'Birthplace': 'Chicago Heights, IL',\n",
       "  'yearsinnyc': 3,\n",
       "  'favoritefood': 'Pizza'}]"
      ]
     },
     "execution_count": 7,
     "metadata": {},
     "output_type": "execute_result"
    }
   ],
   "source": [
    "# Load students.json file\n",
    "\n",
    "#your code here\n",
    "import json\n",
    "f=open('students.json','r')\n",
    "data=json.load(f)\n",
    "data"
   ]
  },
  {
   "cell_type": "code",
   "execution_count": 29,
   "metadata": {},
   "outputs": [
    {
     "data": {
      "text/plain": [
       "<sqlite3.Cursor at 0x10f4fb110>"
      ]
     },
     "execution_count": 29,
     "metadata": {},
     "output_type": "execute_result"
    }
   ],
   "source": [
    "c.execute(\"\"\"DROP TABLE afternoon_database;\"\"\")"
   ]
  },
  {
   "cell_type": "code",
   "execution_count": 30,
   "metadata": {},
   "outputs": [
    {
     "data": {
      "text/plain": [
       "<sqlite3.Cursor at 0x10f4fb110>"
      ]
     },
     "execution_count": 30,
     "metadata": {},
     "output_type": "execute_result"
    }
   ],
   "source": [
    "c.execute('''\n",
    "CREATE TABLE IF NOT EXISTS students \n",
    "(name TEXT, birthdate TEXT, siblings INTEGER, \n",
    "Birthplace TEXT, yearsinnyc INTEGER, favoritefood TEXT)\n",
    "''')\n",
    "\n"
   ]
  },
  {
   "cell_type": "code",
   "execution_count": 31,
   "metadata": {},
   "outputs": [],
   "source": [
    "# dynamic data entry example\n",
    "def dynamic_data_entry(student):\n",
    "\n",
    "    name = student['name']\n",
    "    birthdate = student['birthdate']\n",
    "    siblings = student['siblings']\n",
    "    Birthplace = student['Birthplace']\n",
    "    yearsinnyc = student['yearsinnyc']\n",
    "    favoritefood = student['favoritefood']\n",
    "\n",
    "    c.execute(\"INSERT INTO students VALUES (?, ?, ?, ?, ?, ?)\",\n",
    "          (name, birthdate, siblings, Birthplace, yearsinnyc, favoritefood))\n",
    "\n",
    "    conn.commit()\n",
    "\n",
    "for student in data:\n",
    "    dynamic_data_entry(student)\n",
    "\n",
    "\n",
    "# c.close\n",
    "# conn.close()"
   ]
  },
  {
   "cell_type": "code",
   "execution_count": 32,
   "metadata": {},
   "outputs": [
    {
     "data": {
      "text/plain": [
       "[('Sean Abu Wilson', '02/06', 2, 'Birmingham, AL', 7.8, 'guacamole'),\n",
       " ('Tawab', '04/08/1998', 4, 'Afghanistan', 0.5, 'pizza'),\n",
       " ('Bridget Boakye', '1990-07-13', 3, 'Accra', 15, 'Indian'),\n",
       " ('Cristina', '9/9/1990', 2, 'Spain', 6, 'Sushi'),\n",
       " ('Danny (Haoyang) Yu', '1997-03-19', 2, '1997-03-19', 0, 'Galbi'),\n",
       " ('Dustin_Breitner', '04/15/94', 2, 'New_York', 3, 'Pizza'),\n",
       " ('Gregory DeSantis', '1987-11-23', 2, 'Highland Park, NJ', 13, 'Pizza'),\n",
       " ('Harrison Miller', '10/2/85', 0, 'New Jersey', 0, 'Pizza'),\n",
       " ('Jeremy Owens', '03/30/1990', 0, 'Virginia', 6, 'Avocado'),\n",
       " ('Jeremy Reikes', '1-/12/1995', 1, 'New York City', 23, 'Pizza'),\n",
       " ('Johnathan Peck', '02-19-1994', 2, 'New York', 25, 'Moms food'),\n",
       " ('Minna F', '11-19-1996', 3, 'San Francisco', 1, 'sushi'),\n",
       " ('Nabil Abbas', '12-07-1994', 2, 'Long Island', 6, 'Gyro'),\n",
       " ('Natalie Del Rossi', '10-23-1994', 0, 'Brooklyn', 18, 'pizza'),\n",
       " ('Remy Canario', '10-11-1988', 0, 'New York', 28, 'toast'),\n",
       " ('Xristos Katsaros', '03-24-1986', 1, 'Chicago Heights, IL', 3, 'Pizza')]"
      ]
     },
     "execution_count": 32,
     "metadata": {},
     "output_type": "execute_result"
    }
   ],
   "source": [
    "c.execute(\"\"\"SELECT * FROM students\"\"\").fetchall()"
   ]
  },
  {
   "cell_type": "markdown",
   "metadata": {},
   "source": [
    "### Questions\n",
    "1. What are the names of all of the students?\n",
    "2. Which student has the most siblings?\n",
    "3. How many students are only children?\n",
    "4. Which 3 students have lived in NYC the shortest amount of time?\n",
    "5. How many students are native New Yorkers?\n",
    "6. Do any two students have the same favorite food?\n",
    "7. Which student was born closest to the cohort's graduation date?"
   ]
  },
  {
   "cell_type": "code",
   "execution_count": 39,
   "metadata": {},
   "outputs": [
    {
     "data": {
      "text/plain": [
       "[('Sean Abu Wilson',),\n",
       " ('Tawab',),\n",
       " ('Bridget Boakye',),\n",
       " ('Cristina',),\n",
       " ('Danny (Haoyang) Yu',),\n",
       " ('Dustin_Breitner',),\n",
       " ('Gregory DeSantis',),\n",
       " ('Harrison Miller',),\n",
       " ('Jeremy Owens',),\n",
       " ('Jeremy Reikes',),\n",
       " ('Johnathan Peck',),\n",
       " ('Minna F',),\n",
       " ('Nabil Abbas',),\n",
       " ('Natalie Del Rossi',),\n",
       " ('Remy Canario',),\n",
       " ('Xristos Katsaros',)]"
      ]
     },
     "execution_count": 39,
     "metadata": {},
     "output_type": "execute_result"
    }
   ],
   "source": [
    "c.execute(\"\"\"SELECT name FROM students;\"\"\").fetchall()"
   ]
  },
  {
   "cell_type": "code",
   "execution_count": 59,
   "metadata": {},
   "outputs": [
    {
     "data": {
      "text/plain": [
       "[('Tawab', 4)]"
      ]
     },
     "execution_count": 59,
     "metadata": {},
     "output_type": "execute_result"
    }
   ],
   "source": [
    "c.execute(\"\"\"SELECT name, siblings FROM students WHERE siblings == \n",
    "(SELECT max(siblings) FROM students)\"\"\").fetchall()"
   ]
  },
  {
   "cell_type": "code",
   "execution_count": 76,
   "metadata": {},
   "outputs": [
    {
     "data": {
      "text/plain": [
       "<sqlite3.Cursor at 0x10f4fb110>"
      ]
     },
     "execution_count": 76,
     "metadata": {},
     "output_type": "execute_result"
    }
   ],
   "source": [
    "c.execute(\"\"\"UPDATE students\n",
    "SET Birthplace ='New York'\n",
    "WHERE Birthplace == 'New_York'\"\"\")\n",
    "c.execute(\"\"\"UPDATE students\n",
    "SET Birthplace ='New York'\n",
    "WHERE Birthplace == 'Brooklyn'\"\"\")\n",
    "c.execute(\"\"\"UPDATE students\n",
    "SET Birthplace ='New York'\n",
    "WHERE Birthplace == 'Long Island'\"\"\")\n",
    "c.execute(\"\"\"UPDATE students\n",
    "SET Birthplace ='New York'\n",
    "WHERE Birthplace == 'New York City'\"\"\")"
   ]
  },
  {
   "cell_type": "code",
   "execution_count": 42,
   "metadata": {},
   "outputs": [
    {
     "data": {
      "text/plain": [
       "[(4,)]"
      ]
     },
     "execution_count": 42,
     "metadata": {},
     "output_type": "execute_result"
    }
   ],
   "source": [
    "c.execute(\"\"\"SELECT count(*) FROM students WHERE siblings == 0;\"\"\").fetchall()"
   ]
  },
  {
   "cell_type": "code",
   "execution_count": 44,
   "metadata": {},
   "outputs": [
    {
     "data": {
      "text/plain": [
       "[('Danny (Haoyang) Yu',), ('Harrison Miller',), ('Tawab',)]"
      ]
     },
     "execution_count": 44,
     "metadata": {},
     "output_type": "execute_result"
    }
   ],
   "source": [
    "c.execute(\"\"\"SELECT name FROM students ORDER BY yearsinnyc ASC LIMIT 3;\"\"\").fetchall()"
   ]
  },
  {
   "cell_type": "code",
   "execution_count": 80,
   "metadata": {},
   "outputs": [
    {
     "data": {
      "text/plain": [
       "[(6,)]"
      ]
     },
     "execution_count": 80,
     "metadata": {},
     "output_type": "execute_result"
    }
   ],
   "source": [
    "c.execute(\"\"\"SELECT count(*) FROM students WHERE Birthplace == 'New York';\"\"\").fetchall()"
   ]
  },
  {
   "cell_type": "code",
   "execution_count": 89,
   "metadata": {},
   "outputs": [
    {
     "data": {
      "text/plain": [
       "<sqlite3.Cursor at 0x10f4fb110>"
      ]
     },
     "execution_count": 89,
     "metadata": {},
     "output_type": "execute_result"
    }
   ],
   "source": [
    "c.execute(\"\"\"UPDATE students\n",
    "SET favoritefood ='Pizza'\n",
    "WHERE favoritefood LIKE '%izza'\"\"\")"
   ]
  },
  {
   "cell_type": "code",
   "execution_count": 91,
   "metadata": {},
   "outputs": [
    {
     "data": {
      "text/plain": [
       "[('Pizza', 7)]"
      ]
     },
     "execution_count": 91,
     "metadata": {},
     "output_type": "execute_result"
    }
   ],
   "source": [
    "c.execute(\"\"\"SELECT favoritefood, COUNT(favoritefood) FROM students\n",
    "GROUP BY favoritefood HAVING COUNT(favoritefood) >1;\"\"\").fetchall()"
   ]
  },
  {
   "cell_type": "code",
   "execution_count": 95,
   "metadata": {
    "scrolled": true
   },
   "outputs": [
    {
     "data": {
      "text/plain": [
       "[('Johnathan Peck', '02-19-1994'),\n",
       " ('Sean Abu Wilson', '02/06'),\n",
       " ('Xristos Katsaros', '03-24-1986'),\n",
       " ('Jeremy Owens', '03/30/1990'),\n",
       " ('Tawab', '04/08/1998'),\n",
       " ('Dustin_Breitner', '04/15/94'),\n",
       " ('Jeremy Reikes', '1-/12/1995'),\n",
       " ('Remy Canario', '10-11-1988'),\n",
       " ('Natalie Del Rossi', '10-23-1994'),\n",
       " ('Harrison Miller', '10/2/85'),\n",
       " ('Minna F', '11-19-1996'),\n",
       " ('Nabil Abbas', '12-07-1994'),\n",
       " ('Gregory DeSantis', '1987-11-23'),\n",
       " ('Bridget Boakye', '1990-07-13'),\n",
       " ('Danny (Haoyang) Yu', '1997-03-19'),\n",
       " ('Cristina', '9/9/1990')]"
      ]
     },
     "execution_count": 95,
     "metadata": {},
     "output_type": "execute_result"
    }
   ],
   "source": [
    "c.execute(\"\"\"SELECT name, birthdate FROM students ORDER BY birthdate;\"\"\").fetchall()"
   ]
  },
  {
   "cell_type": "code",
   "execution_count": null,
   "metadata": {},
   "outputs": [],
   "source": []
  }
 ],
 "metadata": {
  "kernelspec": {
   "display_name": "Python 3",
   "language": "python",
   "name": "python3"
  },
  "language_info": {
   "codemirror_mode": {
    "name": "ipython",
    "version": 3
   },
   "file_extension": ".py",
   "mimetype": "text/x-python",
   "name": "python",
   "nbconvert_exporter": "python",
   "pygments_lexer": "ipython3",
   "version": "3.7.3"
  }
 },
 "nbformat": 4,
 "nbformat_minor": 2
}
