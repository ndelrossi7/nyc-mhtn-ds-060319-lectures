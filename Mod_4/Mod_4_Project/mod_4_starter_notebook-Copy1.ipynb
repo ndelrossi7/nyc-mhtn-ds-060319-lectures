{
 "cells": [
  {
   "cell_type": "markdown",
   "metadata": {},
   "source": [
    "# Mod 4 Project - Starter Notebook\n",
    "\n",
    "This notebook has been provided to you so that you can make use of the following starter code to help with the trickier parts of preprocessing the Zillow dataset. \n",
    "\n",
    "The notebook contains a rough outline the general order you'll likely want to take in this project. You'll notice that most of the areas are left blank. This is so that it's more obvious exactly when you should make use of the starter code provided for preprocessing. \n",
    "\n",
    "**_NOTE:_** The number of empty cells are not meant to infer how much or how little code should be involved in any given step--we've just provided a few for your convenience. Add, delete, and change things around in this notebook as needed!\n",
    "\n",
    "# Some Notes Before Starting\n",
    "\n",
    "This project will be one of the more challenging projects you complete in this program. This is because working with Time Series data is a bit different than working with regular datasets. In order to make this a bit less frustrating and help you understand what you need to do (and when you need to do it), we'll quickly review the dataset formats that you'll encounter in this project. \n",
    "\n",
    "## Wide Format vs Long Format\n",
    "\n",
    "If you take a look at the format of the data in `zillow_data.csv`, you'll notice that the actual Time Series values are stored as separate columns. Here's a sample: \n",
    "\n",
    "<img src='~/../images/df_head.png'>\n",
    "\n",
    "You'll notice that the first seven columns look like any other dataset you're used to working with. However, column 8 refers to the median housing sales values for April 1996, column 9 for May 1996, and so on. This This is called **_Wide Format_**, and it makes the dataframe intuitive and easy to read. However, there are problems with this format when it comes to actually learning from the data, because the data only makes sense if you know the name of the column that the data can be found it. Since column names are metadata, our algorithms will miss out on what dates each value is for. This means that before we pass this data to our ARIMA model, we'll need to reshape our dataset to **_Long Format_**. Reshaped into long format, the dataframe above would now look like:\n",
    "\n",
    "<img src='~/../images/melted1.png'>\n",
    "\n",
    "There are now many more rows in this dataset--one for each unique time and zipcode combination in the data! Once our dataset is in this format, we'll be able to train an ARIMA model on it. The method used to convert from Wide to Long is `pd.melt()`, and it is common to refer to our dataset as 'melted' after the transition to denote that it is in long format. \n",
    "\n",
    "# Helper Functions Provided\n",
    "\n",
    "Melting a dataset can be tricky if you've never done it before, so you'll see that we have provided a sample function, `melt_data()`, to help you with this step below. Also provided is:\n",
    "\n",
    "* `get_datetimes()`, a function to deal with converting the column values for datetimes as a pandas series of datetime objects\n",
    "* Some good parameters for matplotlib to help make your visualizations more readable. \n",
    "\n",
    "Good luck!\n",
    "\n",
    "\n",
    "# Step 1: Load the Data/Filtering for Chosen Zipcodes"
   ]
  },
  {
   "cell_type": "code",
   "execution_count": 10,
   "metadata": {},
   "outputs": [],
   "source": [
    "import pandas as pd"
   ]
  },
  {
   "cell_type": "code",
   "execution_count": 11,
   "metadata": {},
   "outputs": [],
   "source": [
    "df = pd.read_csv('zillow_data.csv')"
   ]
  },
  {
   "cell_type": "code",
   "execution_count": 5,
   "metadata": {
    "scrolled": true
   },
   "outputs": [
    {
     "data": {
      "text/html": [
       "<div>\n",
       "<style scoped>\n",
       "    .dataframe tbody tr th:only-of-type {\n",
       "        vertical-align: middle;\n",
       "    }\n",
       "\n",
       "    .dataframe tbody tr th {\n",
       "        vertical-align: top;\n",
       "    }\n",
       "\n",
       "    .dataframe thead th {\n",
       "        text-align: right;\n",
       "    }\n",
       "</style>\n",
       "<table border=\"1\" class=\"dataframe\">\n",
       "  <thead>\n",
       "    <tr style=\"text-align: right;\">\n",
       "      <th></th>\n",
       "      <th>RegionID</th>\n",
       "      <th>RegionName</th>\n",
       "      <th>City</th>\n",
       "      <th>State</th>\n",
       "      <th>Metro</th>\n",
       "      <th>CountyName</th>\n",
       "      <th>SizeRank</th>\n",
       "      <th>1996-04</th>\n",
       "      <th>1996-05</th>\n",
       "      <th>1996-06</th>\n",
       "      <th>...</th>\n",
       "      <th>2017-07</th>\n",
       "      <th>2017-08</th>\n",
       "      <th>2017-09</th>\n",
       "      <th>2017-10</th>\n",
       "      <th>2017-11</th>\n",
       "      <th>2017-12</th>\n",
       "      <th>2018-01</th>\n",
       "      <th>2018-02</th>\n",
       "      <th>2018-03</th>\n",
       "      <th>2018-04</th>\n",
       "    </tr>\n",
       "  </thead>\n",
       "  <tbody>\n",
       "    <tr>\n",
       "      <th>0</th>\n",
       "      <td>84654</td>\n",
       "      <td>60657</td>\n",
       "      <td>Chicago</td>\n",
       "      <td>IL</td>\n",
       "      <td>Chicago</td>\n",
       "      <td>Cook</td>\n",
       "      <td>1</td>\n",
       "      <td>334200.0</td>\n",
       "      <td>335400.0</td>\n",
       "      <td>336500.0</td>\n",
       "      <td>...</td>\n",
       "      <td>1005500</td>\n",
       "      <td>1007500</td>\n",
       "      <td>1007800</td>\n",
       "      <td>1009600</td>\n",
       "      <td>1013300</td>\n",
       "      <td>1018700</td>\n",
       "      <td>1024400</td>\n",
       "      <td>1030700</td>\n",
       "      <td>1033800</td>\n",
       "      <td>1030600</td>\n",
       "    </tr>\n",
       "    <tr>\n",
       "      <th>1</th>\n",
       "      <td>90668</td>\n",
       "      <td>75070</td>\n",
       "      <td>McKinney</td>\n",
       "      <td>TX</td>\n",
       "      <td>Dallas-Fort Worth</td>\n",
       "      <td>Collin</td>\n",
       "      <td>2</td>\n",
       "      <td>235700.0</td>\n",
       "      <td>236900.0</td>\n",
       "      <td>236700.0</td>\n",
       "      <td>...</td>\n",
       "      <td>308000</td>\n",
       "      <td>310000</td>\n",
       "      <td>312500</td>\n",
       "      <td>314100</td>\n",
       "      <td>315000</td>\n",
       "      <td>316600</td>\n",
       "      <td>318100</td>\n",
       "      <td>319600</td>\n",
       "      <td>321100</td>\n",
       "      <td>321800</td>\n",
       "    </tr>\n",
       "    <tr>\n",
       "      <th>2</th>\n",
       "      <td>91982</td>\n",
       "      <td>77494</td>\n",
       "      <td>Katy</td>\n",
       "      <td>TX</td>\n",
       "      <td>Houston</td>\n",
       "      <td>Harris</td>\n",
       "      <td>3</td>\n",
       "      <td>210400.0</td>\n",
       "      <td>212200.0</td>\n",
       "      <td>212200.0</td>\n",
       "      <td>...</td>\n",
       "      <td>321000</td>\n",
       "      <td>320600</td>\n",
       "      <td>320200</td>\n",
       "      <td>320400</td>\n",
       "      <td>320800</td>\n",
       "      <td>321200</td>\n",
       "      <td>321200</td>\n",
       "      <td>323000</td>\n",
       "      <td>326900</td>\n",
       "      <td>329900</td>\n",
       "    </tr>\n",
       "    <tr>\n",
       "      <th>3</th>\n",
       "      <td>84616</td>\n",
       "      <td>60614</td>\n",
       "      <td>Chicago</td>\n",
       "      <td>IL</td>\n",
       "      <td>Chicago</td>\n",
       "      <td>Cook</td>\n",
       "      <td>4</td>\n",
       "      <td>498100.0</td>\n",
       "      <td>500900.0</td>\n",
       "      <td>503100.0</td>\n",
       "      <td>...</td>\n",
       "      <td>1289800</td>\n",
       "      <td>1287700</td>\n",
       "      <td>1287400</td>\n",
       "      <td>1291500</td>\n",
       "      <td>1296600</td>\n",
       "      <td>1299000</td>\n",
       "      <td>1302700</td>\n",
       "      <td>1306400</td>\n",
       "      <td>1308500</td>\n",
       "      <td>1307000</td>\n",
       "    </tr>\n",
       "    <tr>\n",
       "      <th>4</th>\n",
       "      <td>93144</td>\n",
       "      <td>79936</td>\n",
       "      <td>El Paso</td>\n",
       "      <td>TX</td>\n",
       "      <td>El Paso</td>\n",
       "      <td>El Paso</td>\n",
       "      <td>5</td>\n",
       "      <td>77300.0</td>\n",
       "      <td>77300.0</td>\n",
       "      <td>77300.0</td>\n",
       "      <td>...</td>\n",
       "      <td>119100</td>\n",
       "      <td>119400</td>\n",
       "      <td>120000</td>\n",
       "      <td>120300</td>\n",
       "      <td>120300</td>\n",
       "      <td>120300</td>\n",
       "      <td>120300</td>\n",
       "      <td>120500</td>\n",
       "      <td>121000</td>\n",
       "      <td>121500</td>\n",
       "    </tr>\n",
       "  </tbody>\n",
       "</table>\n",
       "<p>5 rows × 272 columns</p>\n",
       "</div>"
      ],
      "text/plain": [
       "   RegionID  RegionName      City State              Metro CountyName  \\\n",
       "0     84654       60657   Chicago    IL            Chicago       Cook   \n",
       "1     90668       75070  McKinney    TX  Dallas-Fort Worth     Collin   \n",
       "2     91982       77494      Katy    TX            Houston     Harris   \n",
       "3     84616       60614   Chicago    IL            Chicago       Cook   \n",
       "4     93144       79936   El Paso    TX            El Paso    El Paso   \n",
       "\n",
       "   SizeRank   1996-04   1996-05   1996-06  ...  2017-07  2017-08  2017-09  \\\n",
       "0         1  334200.0  335400.0  336500.0  ...  1005500  1007500  1007800   \n",
       "1         2  235700.0  236900.0  236700.0  ...   308000   310000   312500   \n",
       "2         3  210400.0  212200.0  212200.0  ...   321000   320600   320200   \n",
       "3         4  498100.0  500900.0  503100.0  ...  1289800  1287700  1287400   \n",
       "4         5   77300.0   77300.0   77300.0  ...   119100   119400   120000   \n",
       "\n",
       "   2017-10  2017-11  2017-12  2018-01  2018-02  2018-03  2018-04  \n",
       "0  1009600  1013300  1018700  1024400  1030700  1033800  1030600  \n",
       "1   314100   315000   316600   318100   319600   321100   321800  \n",
       "2   320400   320800   321200   321200   323000   326900   329900  \n",
       "3  1291500  1296600  1299000  1302700  1306400  1308500  1307000  \n",
       "4   120300   120300   120300   120300   120500   121000   121500  \n",
       "\n",
       "[5 rows x 272 columns]"
      ]
     },
     "execution_count": 5,
     "metadata": {},
     "output_type": "execute_result"
    }
   ],
   "source": [
    "df.head()\n",
    "# RegionName is zip code"
   ]
  },
  {
   "cell_type": "code",
   "execution_count": 6,
   "metadata": {},
   "outputs": [],
   "source": [
    "df['RegionName'] = df['RegionName'].astype(str)"
   ]
  },
  {
   "cell_type": "code",
   "execution_count": 7,
   "metadata": {
    "scrolled": true
   },
   "outputs": [
    {
     "data": {
      "text/plain": [
       "str"
      ]
     },
     "execution_count": 7,
     "metadata": {},
     "output_type": "execute_result"
    }
   ],
   "source": [
    "type(df['RegionName'][0])"
   ]
  },
  {
   "cell_type": "code",
   "execution_count": 8,
   "metadata": {},
   "outputs": [],
   "source": [
    "statedf = df.drop(['RegionID', 'RegionName', 'City', 'Metro', 'CountyName', 'SizeRank'], axis = 1)"
   ]
  },
  {
   "cell_type": "code",
   "execution_count": 36,
   "metadata": {},
   "outputs": [],
   "source": [
    "stateavg = statedf.groupby(['State']).mean()"
   ]
  },
  {
   "cell_type": "code",
   "execution_count": 37,
   "metadata": {},
   "outputs": [],
   "source": [
    "stateavg = stateavg.dropna()"
   ]
  },
  {
   "cell_type": "code",
   "execution_count": 38,
   "metadata": {},
   "outputs": [],
   "source": [
    "def get_datetimes(df):\n",
    "    return pd.to_datetime(df.columns, format='%Y-%m')"
   ]
  },
  {
   "cell_type": "code",
   "execution_count": 39,
   "metadata": {},
   "outputs": [],
   "source": [
    "stateavg = get_datetimes(stateavg)"
   ]
  },
  {
   "cell_type": "code",
   "execution_count": 40,
   "metadata": {
    "scrolled": true
   },
   "outputs": [
    {
     "data": {
      "text/plain": [
       "DatetimeIndex(['1996-04-01', '1996-05-01', '1996-06-01', '1996-07-01',\n",
       "               '1996-08-01', '1996-09-01', '1996-10-01', '1996-11-01',\n",
       "               '1996-12-01', '1997-01-01',\n",
       "               ...\n",
       "               '2017-07-01', '2017-08-01', '2017-09-01', '2017-10-01',\n",
       "               '2017-11-01', '2017-12-01', '2018-01-01', '2018-02-01',\n",
       "               '2018-03-01', '2018-04-01'],\n",
       "              dtype='datetime64[ns]', length=265, freq=None)"
      ]
     },
     "execution_count": 40,
     "metadata": {},
     "output_type": "execute_result"
    }
   ],
   "source": [
    "stateavg"
   ]
  },
  {
   "cell_type": "code",
   "execution_count": 25,
   "metadata": {},
   "outputs": [],
   "source": [
    "transposed_state = stateavg.T"
   ]
  },
  {
   "cell_type": "code",
   "execution_count": 26,
   "metadata": {},
   "outputs": [
    {
     "data": {
      "text/html": [
       "<div>\n",
       "<style scoped>\n",
       "    .dataframe tbody tr th:only-of-type {\n",
       "        vertical-align: middle;\n",
       "    }\n",
       "\n",
       "    .dataframe tbody tr th {\n",
       "        vertical-align: top;\n",
       "    }\n",
       "\n",
       "    .dataframe thead th {\n",
       "        text-align: right;\n",
       "    }\n",
       "</style>\n",
       "<table border=\"1\" class=\"dataframe\">\n",
       "  <thead>\n",
       "    <tr style=\"text-align: right;\">\n",
       "      <th>State</th>\n",
       "      <th>AK</th>\n",
       "      <th>AL</th>\n",
       "      <th>AR</th>\n",
       "      <th>AZ</th>\n",
       "      <th>CA</th>\n",
       "      <th>CO</th>\n",
       "      <th>CT</th>\n",
       "      <th>DC</th>\n",
       "      <th>DE</th>\n",
       "      <th>FL</th>\n",
       "      <th>...</th>\n",
       "      <th>SD</th>\n",
       "      <th>TN</th>\n",
       "      <th>TX</th>\n",
       "      <th>UT</th>\n",
       "      <th>VA</th>\n",
       "      <th>VT</th>\n",
       "      <th>WA</th>\n",
       "      <th>WI</th>\n",
       "      <th>WV</th>\n",
       "      <th>WY</th>\n",
       "    </tr>\n",
       "  </thead>\n",
       "  <tbody>\n",
       "    <tr>\n",
       "      <th>1996-04</th>\n",
       "      <td>128382.142857</td>\n",
       "      <td>86795.569620</td>\n",
       "      <td>68868.041237</td>\n",
       "      <td>116202.790698</td>\n",
       "      <td>200220.959596</td>\n",
       "      <td>142561.943320</td>\n",
       "      <td>157189.516129</td>\n",
       "      <td>189216.666667</td>\n",
       "      <td>125784.615385</td>\n",
       "      <td>104529.019608</td>\n",
       "      <td>...</td>\n",
       "      <td>54320.000000</td>\n",
       "      <td>66087.468672</td>\n",
       "      <td>109384.639831</td>\n",
       "      <td>159645.689655</td>\n",
       "      <td>122071.236559</td>\n",
       "      <td>82825.00</td>\n",
       "      <td>140589.285714</td>\n",
       "      <td>115151.376147</td>\n",
       "      <td>66461.666667</td>\n",
       "      <td>138712.500000</td>\n",
       "    </tr>\n",
       "    <tr>\n",
       "      <th>1996-05</th>\n",
       "      <td>128832.142857</td>\n",
       "      <td>87122.151899</td>\n",
       "      <td>69015.463918</td>\n",
       "      <td>116562.790698</td>\n",
       "      <td>200124.831650</td>\n",
       "      <td>142765.991903</td>\n",
       "      <td>157063.709677</td>\n",
       "      <td>188611.111111</td>\n",
       "      <td>126234.615385</td>\n",
       "      <td>104594.117647</td>\n",
       "      <td>...</td>\n",
       "      <td>54640.000000</td>\n",
       "      <td>66340.852130</td>\n",
       "      <td>109406.885593</td>\n",
       "      <td>159523.275862</td>\n",
       "      <td>122136.827957</td>\n",
       "      <td>82556.25</td>\n",
       "      <td>140838.988095</td>\n",
       "      <td>115099.388379</td>\n",
       "      <td>66575.000000</td>\n",
       "      <td>138762.500000</td>\n",
       "    </tr>\n",
       "    <tr>\n",
       "      <th>1996-06</th>\n",
       "      <td>129253.571429</td>\n",
       "      <td>87460.759494</td>\n",
       "      <td>69140.206186</td>\n",
       "      <td>116934.883721</td>\n",
       "      <td>200035.942761</td>\n",
       "      <td>142985.425101</td>\n",
       "      <td>156926.612903</td>\n",
       "      <td>188011.111111</td>\n",
       "      <td>126665.384615</td>\n",
       "      <td>104662.352941</td>\n",
       "      <td>...</td>\n",
       "      <td>54960.000000</td>\n",
       "      <td>66594.987469</td>\n",
       "      <td>109451.377119</td>\n",
       "      <td>159406.896552</td>\n",
       "      <td>122201.075269</td>\n",
       "      <td>82306.25</td>\n",
       "      <td>141101.488095</td>\n",
       "      <td>115032.110092</td>\n",
       "      <td>66708.333333</td>\n",
       "      <td>138741.666667</td>\n",
       "    </tr>\n",
       "    <tr>\n",
       "      <th>1996-07</th>\n",
       "      <td>129639.285714</td>\n",
       "      <td>87798.734177</td>\n",
       "      <td>69262.886598</td>\n",
       "      <td>117315.348837</td>\n",
       "      <td>199965.572391</td>\n",
       "      <td>143204.453441</td>\n",
       "      <td>156778.225806</td>\n",
       "      <td>187438.888889</td>\n",
       "      <td>127026.923077</td>\n",
       "      <td>104727.058824</td>\n",
       "      <td>...</td>\n",
       "      <td>55290.000000</td>\n",
       "      <td>66843.107769</td>\n",
       "      <td>109521.504237</td>\n",
       "      <td>159313.793103</td>\n",
       "      <td>122267.204301</td>\n",
       "      <td>82037.50</td>\n",
       "      <td>141378.571429</td>\n",
       "      <td>114940.672783</td>\n",
       "      <td>66848.333333</td>\n",
       "      <td>138641.666667</td>\n",
       "    </tr>\n",
       "    <tr>\n",
       "      <th>1996-08</th>\n",
       "      <td>130028.571429</td>\n",
       "      <td>88156.962025</td>\n",
       "      <td>69378.350515</td>\n",
       "      <td>117719.534884</td>\n",
       "      <td>199958.754209</td>\n",
       "      <td>143461.943320</td>\n",
       "      <td>156640.322581</td>\n",
       "      <td>186900.000000</td>\n",
       "      <td>127346.153846</td>\n",
       "      <td>104816.993464</td>\n",
       "      <td>...</td>\n",
       "      <td>55660.000000</td>\n",
       "      <td>67081.704261</td>\n",
       "      <td>109613.983051</td>\n",
       "      <td>159254.310345</td>\n",
       "      <td>122352.419355</td>\n",
       "      <td>81781.25</td>\n",
       "      <td>141686.011905</td>\n",
       "      <td>114840.978593</td>\n",
       "      <td>67016.666667</td>\n",
       "      <td>138533.333333</td>\n",
       "    </tr>\n",
       "    <tr>\n",
       "      <th>1996-09</th>\n",
       "      <td>130367.857143</td>\n",
       "      <td>88531.012658</td>\n",
       "      <td>69507.216495</td>\n",
       "      <td>118150.232558</td>\n",
       "      <td>200037.626263</td>\n",
       "      <td>143752.631579</td>\n",
       "      <td>156525.806452</td>\n",
       "      <td>186494.444444</td>\n",
       "      <td>127603.846154</td>\n",
       "      <td>104938.562092</td>\n",
       "      <td>...</td>\n",
       "      <td>56020.000000</td>\n",
       "      <td>67325.563910</td>\n",
       "      <td>109721.504237</td>\n",
       "      <td>159244.827586</td>\n",
       "      <td>122473.924731</td>\n",
       "      <td>81568.75</td>\n",
       "      <td>142026.488095</td>\n",
       "      <td>114756.880734</td>\n",
       "      <td>67196.666667</td>\n",
       "      <td>138412.500000</td>\n",
       "    </tr>\n",
       "    <tr>\n",
       "      <th>1996-10</th>\n",
       "      <td>130710.714286</td>\n",
       "      <td>88918.987342</td>\n",
       "      <td>69674.226804</td>\n",
       "      <td>118626.511628</td>\n",
       "      <td>200277.020202</td>\n",
       "      <td>144106.882591</td>\n",
       "      <td>156462.903226</td>\n",
       "      <td>186222.222222</td>\n",
       "      <td>127838.461538</td>\n",
       "      <td>105112.026144</td>\n",
       "      <td>...</td>\n",
       "      <td>56390.000000</td>\n",
       "      <td>67585.463659</td>\n",
       "      <td>109843.538136</td>\n",
       "      <td>159320.689655</td>\n",
       "      <td>122653.494624</td>\n",
       "      <td>81418.75</td>\n",
       "      <td>142434.523810</td>\n",
       "      <td>114704.892966</td>\n",
       "      <td>67401.666667</td>\n",
       "      <td>138304.166667</td>\n",
       "    </tr>\n",
       "    <tr>\n",
       "      <th>1996-11</th>\n",
       "      <td>131085.714286</td>\n",
       "      <td>89327.848101</td>\n",
       "      <td>69885.567010</td>\n",
       "      <td>119141.395349</td>\n",
       "      <td>200643.013468</td>\n",
       "      <td>144507.287449</td>\n",
       "      <td>156439.516129</td>\n",
       "      <td>186116.666667</td>\n",
       "      <td>128046.153846</td>\n",
       "      <td>105324.183007</td>\n",
       "      <td>...</td>\n",
       "      <td>56660.000000</td>\n",
       "      <td>67844.611529</td>\n",
       "      <td>109970.550847</td>\n",
       "      <td>159493.103448</td>\n",
       "      <td>122871.505376</td>\n",
       "      <td>81306.25</td>\n",
       "      <td>142895.833333</td>\n",
       "      <td>114685.932722</td>\n",
       "      <td>67635.000000</td>\n",
       "      <td>138225.000000</td>\n",
       "    </tr>\n",
       "    <tr>\n",
       "      <th>1996-12</th>\n",
       "      <td>131557.142857</td>\n",
       "      <td>89800.632911</td>\n",
       "      <td>70167.010309</td>\n",
       "      <td>119773.488372</td>\n",
       "      <td>201309.680135</td>\n",
       "      <td>145057.085020</td>\n",
       "      <td>156570.161290</td>\n",
       "      <td>186305.555556</td>\n",
       "      <td>128357.692308</td>\n",
       "      <td>105651.895425</td>\n",
       "      <td>...</td>\n",
       "      <td>56980.000000</td>\n",
       "      <td>68158.646617</td>\n",
       "      <td>110106.885593</td>\n",
       "      <td>159775.862069</td>\n",
       "      <td>123210.483871</td>\n",
       "      <td>81287.50</td>\n",
       "      <td>143475.297619</td>\n",
       "      <td>114777.064220</td>\n",
       "      <td>67886.666667</td>\n",
       "      <td>138250.000000</td>\n",
       "    </tr>\n",
       "    <tr>\n",
       "      <th>1997-01</th>\n",
       "      <td>132107.142857</td>\n",
       "      <td>90325.949367</td>\n",
       "      <td>70535.051546</td>\n",
       "      <td>120472.093023</td>\n",
       "      <td>202229.124579</td>\n",
       "      <td>145729.149798</td>\n",
       "      <td>156846.774194</td>\n",
       "      <td>186750.000000</td>\n",
       "      <td>128707.692308</td>\n",
       "      <td>106072.026144</td>\n",
       "      <td>...</td>\n",
       "      <td>57450.000000</td>\n",
       "      <td>68534.837093</td>\n",
       "      <td>110244.279661</td>\n",
       "      <td>160115.517241</td>\n",
       "      <td>123636.290323</td>\n",
       "      <td>81343.75</td>\n",
       "      <td>144152.380952</td>\n",
       "      <td>114957.186544</td>\n",
       "      <td>68181.666667</td>\n",
       "      <td>138337.500000</td>\n",
       "    </tr>\n",
       "    <tr>\n",
       "      <th>1997-02</th>\n",
       "      <td>132546.428571</td>\n",
       "      <td>90846.835443</td>\n",
       "      <td>70964.948454</td>\n",
       "      <td>121125.581395</td>\n",
       "      <td>203152.525253</td>\n",
       "      <td>146382.591093</td>\n",
       "      <td>157122.580645</td>\n",
       "      <td>187261.111111</td>\n",
       "      <td>128965.384615</td>\n",
       "      <td>106466.666667</td>\n",
       "      <td>...</td>\n",
       "      <td>57970.000000</td>\n",
       "      <td>68911.779449</td>\n",
       "      <td>110385.169492</td>\n",
       "      <td>160491.379310</td>\n",
       "      <td>124023.655914</td>\n",
       "      <td>81412.50</td>\n",
       "      <td>144813.988095</td>\n",
       "      <td>115129.663609</td>\n",
       "      <td>68465.000000</td>\n",
       "      <td>138400.000000</td>\n",
       "    </tr>\n",
       "    <tr>\n",
       "      <th>1997-03</th>\n",
       "      <td>132907.142857</td>\n",
       "      <td>91330.379747</td>\n",
       "      <td>71393.814433</td>\n",
       "      <td>121678.604651</td>\n",
       "      <td>203938.804714</td>\n",
       "      <td>146967.611336</td>\n",
       "      <td>157308.064516</td>\n",
       "      <td>187677.777778</td>\n",
       "      <td>129069.230769</td>\n",
       "      <td>106759.477124</td>\n",
       "      <td>...</td>\n",
       "      <td>58290.000000</td>\n",
       "      <td>69261.403509</td>\n",
       "      <td>110526.483051</td>\n",
       "      <td>160904.310345</td>\n",
       "      <td>124304.301075</td>\n",
       "      <td>81456.25</td>\n",
       "      <td>145407.142857</td>\n",
       "      <td>115235.779817</td>\n",
       "      <td>68738.333333</td>\n",
       "      <td>138391.666667</td>\n",
       "    </tr>\n",
       "    <tr>\n",
       "      <th>1997-04</th>\n",
       "      <td>133275.000000</td>\n",
       "      <td>91822.151899</td>\n",
       "      <td>71835.051546</td>\n",
       "      <td>122216.744186</td>\n",
       "      <td>204815.404040</td>\n",
       "      <td>147608.097166</td>\n",
       "      <td>157520.161290</td>\n",
       "      <td>188144.444444</td>\n",
       "      <td>129176.923077</td>\n",
       "      <td>107040.784314</td>\n",
       "      <td>...</td>\n",
       "      <td>58600.000000</td>\n",
       "      <td>69609.022556</td>\n",
       "      <td>110687.817797</td>\n",
       "      <td>161355.172414</td>\n",
       "      <td>124586.290323</td>\n",
       "      <td>81550.00</td>\n",
       "      <td>146014.583333</td>\n",
       "      <td>115340.061162</td>\n",
       "      <td>69031.666667</td>\n",
       "      <td>138395.833333</td>\n",
       "    </tr>\n",
       "    <tr>\n",
       "      <th>1997-05</th>\n",
       "      <td>133653.571429</td>\n",
       "      <td>92291.139241</td>\n",
       "      <td>72242.268041</td>\n",
       "      <td>122730.232558</td>\n",
       "      <td>205796.043771</td>\n",
       "      <td>148289.878543</td>\n",
       "      <td>157781.451613</td>\n",
       "      <td>188683.333333</td>\n",
       "      <td>129315.384615</td>\n",
       "      <td>107319.477124</td>\n",
       "      <td>...</td>\n",
       "      <td>58880.000000</td>\n",
       "      <td>69951.127820</td>\n",
       "      <td>110877.542373</td>\n",
       "      <td>161825.000000</td>\n",
       "      <td>124861.021505</td>\n",
       "      <td>81662.50</td>\n",
       "      <td>146627.083333</td>\n",
       "      <td>115424.464832</td>\n",
       "      <td>69340.000000</td>\n",
       "      <td>138358.333333</td>\n",
       "    </tr>\n",
       "    <tr>\n",
       "      <th>1997-06</th>\n",
       "      <td>134060.714286</td>\n",
       "      <td>92729.746835</td>\n",
       "      <td>72613.402062</td>\n",
       "      <td>123226.511628</td>\n",
       "      <td>206873.737374</td>\n",
       "      <td>149005.263158</td>\n",
       "      <td>158066.935484</td>\n",
       "      <td>189227.777778</td>\n",
       "      <td>129515.384615</td>\n",
       "      <td>107597.908497</td>\n",
       "      <td>...</td>\n",
       "      <td>59150.000000</td>\n",
       "      <td>70278.446115</td>\n",
       "      <td>111089.724576</td>\n",
       "      <td>162287.931034</td>\n",
       "      <td>125131.451613</td>\n",
       "      <td>81837.50</td>\n",
       "      <td>147237.500000</td>\n",
       "      <td>115500.305810</td>\n",
       "      <td>69668.333333</td>\n",
       "      <td>138204.166667</td>\n",
       "    </tr>\n",
       "    <tr>\n",
       "      <th>1997-07</th>\n",
       "      <td>134489.285714</td>\n",
       "      <td>93129.746835</td>\n",
       "      <td>72945.360825</td>\n",
       "      <td>123704.651163</td>\n",
       "      <td>208042.003367</td>\n",
       "      <td>149753.441296</td>\n",
       "      <td>158381.451613</td>\n",
       "      <td>189800.000000</td>\n",
       "      <td>129726.923077</td>\n",
       "      <td>107870.588235</td>\n",
       "      <td>...</td>\n",
       "      <td>59410.000000</td>\n",
       "      <td>70592.731830</td>\n",
       "      <td>111327.860169</td>\n",
       "      <td>162742.241379</td>\n",
       "      <td>125286.327078</td>\n",
       "      <td>82031.25</td>\n",
       "      <td>147861.309524</td>\n",
       "      <td>115552.905199</td>\n",
       "      <td>70016.666667</td>\n",
       "      <td>137987.500000</td>\n",
       "    </tr>\n",
       "    <tr>\n",
       "      <th>1997-08</th>\n",
       "      <td>134932.142857</td>\n",
       "      <td>93494.936709</td>\n",
       "      <td>73230.927835</td>\n",
       "      <td>124191.627907</td>\n",
       "      <td>209309.427609</td>\n",
       "      <td>150531.983806</td>\n",
       "      <td>158727.419355</td>\n",
       "      <td>190394.444444</td>\n",
       "      <td>130050.000000</td>\n",
       "      <td>108157.254902</td>\n",
       "      <td>...</td>\n",
       "      <td>59670.000000</td>\n",
       "      <td>70899.498747</td>\n",
       "      <td>111585.169492</td>\n",
       "      <td>163180.172414</td>\n",
       "      <td>125583.914209</td>\n",
       "      <td>82262.50</td>\n",
       "      <td>148512.500000</td>\n",
       "      <td>115614.373089</td>\n",
       "      <td>70376.666667</td>\n",
       "      <td>137695.833333</td>\n",
       "    </tr>\n",
       "    <tr>\n",
       "      <th>1997-09</th>\n",
       "      <td>135414.285714</td>\n",
       "      <td>93821.518987</td>\n",
       "      <td>73488.659794</td>\n",
       "      <td>124680.000000</td>\n",
       "      <td>210679.797980</td>\n",
       "      <td>151343.724696</td>\n",
       "      <td>159121.774194</td>\n",
       "      <td>191033.333333</td>\n",
       "      <td>130453.846154</td>\n",
       "      <td>108470.849673</td>\n",
       "      <td>...</td>\n",
       "      <td>59950.000000</td>\n",
       "      <td>71200.250627</td>\n",
       "      <td>111860.911017</td>\n",
       "      <td>163606.896552</td>\n",
       "      <td>125915.281501</td>\n",
       "      <td>82512.50</td>\n",
       "      <td>149194.345238</td>\n",
       "      <td>115692.966361</td>\n",
       "      <td>70745.000000</td>\n",
       "      <td>137379.166667</td>\n",
       "    </tr>\n",
       "    <tr>\n",
       "      <th>1997-10</th>\n",
       "      <td>135932.142857</td>\n",
       "      <td>94124.683544</td>\n",
       "      <td>73734.020619</td>\n",
       "      <td>125213.953488</td>\n",
       "      <td>212206.818182</td>\n",
       "      <td>152185.829960</td>\n",
       "      <td>159588.709677</td>\n",
       "      <td>191777.777778</td>\n",
       "      <td>130923.076923</td>\n",
       "      <td>108829.673203</td>\n",
       "      <td>...</td>\n",
       "      <td>60340.000000</td>\n",
       "      <td>71514.035088</td>\n",
       "      <td>112153.283898</td>\n",
       "      <td>164012.068966</td>\n",
       "      <td>126313.136729</td>\n",
       "      <td>82831.25</td>\n",
       "      <td>149937.202381</td>\n",
       "      <td>115814.373089</td>\n",
       "      <td>71121.666667</td>\n",
       "      <td>137054.166667</td>\n",
       "    </tr>\n",
       "    <tr>\n",
       "      <th>1997-11</th>\n",
       "      <td>136507.142857</td>\n",
       "      <td>94393.037975</td>\n",
       "      <td>73951.546392</td>\n",
       "      <td>125780.000000</td>\n",
       "      <td>213845.202020</td>\n",
       "      <td>153072.874494</td>\n",
       "      <td>160112.903226</td>\n",
       "      <td>192655.555556</td>\n",
       "      <td>131476.923077</td>\n",
       "      <td>109227.843137</td>\n",
       "      <td>...</td>\n",
       "      <td>60700.000000</td>\n",
       "      <td>71827.568922</td>\n",
       "      <td>112454.025424</td>\n",
       "      <td>164435.344828</td>\n",
       "      <td>126768.096515</td>\n",
       "      <td>83200.00</td>\n",
       "      <td>150740.178571</td>\n",
       "      <td>115982.568807</td>\n",
       "      <td>71505.000000</td>\n",
       "      <td>136741.666667</td>\n",
       "    </tr>\n",
       "    <tr>\n",
       "      <th>1997-12</th>\n",
       "      <td>137228.571429</td>\n",
       "      <td>94697.468354</td>\n",
       "      <td>74201.030928</td>\n",
       "      <td>126442.325581</td>\n",
       "      <td>215770.202020</td>\n",
       "      <td>154108.097166</td>\n",
       "      <td>160799.193548</td>\n",
       "      <td>193827.777778</td>\n",
       "      <td>132215.384615</td>\n",
       "      <td>109734.379085</td>\n",
       "      <td>...</td>\n",
       "      <td>61130.000000</td>\n",
       "      <td>72190.977444</td>\n",
       "      <td>112759.957627</td>\n",
       "      <td>164852.586207</td>\n",
       "      <td>127370.777480</td>\n",
       "      <td>83668.75</td>\n",
       "      <td>151672.321429</td>\n",
       "      <td>116267.584098</td>\n",
       "      <td>71901.666667</td>\n",
       "      <td>136512.500000</td>\n",
       "    </tr>\n",
       "    <tr>\n",
       "      <th>1998-01</th>\n",
       "      <td>138032.142857</td>\n",
       "      <td>95034.177215</td>\n",
       "      <td>74497.938144</td>\n",
       "      <td>127160.930233</td>\n",
       "      <td>217879.966330</td>\n",
       "      <td>155254.655870</td>\n",
       "      <td>161628.225806</td>\n",
       "      <td>195233.333333</td>\n",
       "      <td>133034.615385</td>\n",
       "      <td>110326.013072</td>\n",
       "      <td>...</td>\n",
       "      <td>61800.000000</td>\n",
       "      <td>72612.531328</td>\n",
       "      <td>113061.016949</td>\n",
       "      <td>165232.758621</td>\n",
       "      <td>127881.066667</td>\n",
       "      <td>84187.50</td>\n",
       "      <td>152690.476190</td>\n",
       "      <td>116654.740061</td>\n",
       "      <td>72288.333333</td>\n",
       "      <td>136362.500000</td>\n",
       "    </tr>\n",
       "    <tr>\n",
       "      <th>1998-02</th>\n",
       "      <td>138782.142857</td>\n",
       "      <td>95352.531646</td>\n",
       "      <td>74803.092784</td>\n",
       "      <td>127824.651163</td>\n",
       "      <td>219884.932660</td>\n",
       "      <td>156369.230769</td>\n",
       "      <td>162450.806452</td>\n",
       "      <td>196688.888889</td>\n",
       "      <td>133742.307692</td>\n",
       "      <td>110876.470588</td>\n",
       "      <td>...</td>\n",
       "      <td>62600.000000</td>\n",
       "      <td>73032.330827</td>\n",
       "      <td>113336.440678</td>\n",
       "      <td>165565.517241</td>\n",
       "      <td>128599.466667</td>\n",
       "      <td>84700.00</td>\n",
       "      <td>153674.702381</td>\n",
       "      <td>117048.623853</td>\n",
       "      <td>72643.333333</td>\n",
       "      <td>136191.666667</td>\n",
       "    </tr>\n",
       "    <tr>\n",
       "      <th>1998-03</th>\n",
       "      <td>139453.571429</td>\n",
       "      <td>95629.113924</td>\n",
       "      <td>75053.608247</td>\n",
       "      <td>128383.255814</td>\n",
       "      <td>221657.828283</td>\n",
       "      <td>157434.412955</td>\n",
       "      <td>163176.612903</td>\n",
       "      <td>198083.333333</td>\n",
       "      <td>134261.538462</td>\n",
       "      <td>111313.986928</td>\n",
       "      <td>...</td>\n",
       "      <td>63400.000000</td>\n",
       "      <td>73416.541353</td>\n",
       "      <td>113577.224576</td>\n",
       "      <td>165859.482759</td>\n",
       "      <td>129225.866667</td>\n",
       "      <td>85212.50</td>\n",
       "      <td>154572.916667</td>\n",
       "      <td>117401.529052</td>\n",
       "      <td>72963.333333</td>\n",
       "      <td>135991.666667</td>\n",
       "    </tr>\n",
       "    <tr>\n",
       "      <th>1998-04</th>\n",
       "      <td>140178.571429</td>\n",
       "      <td>95923.417722</td>\n",
       "      <td>75288.659794</td>\n",
       "      <td>128922.790698</td>\n",
       "      <td>223432.575758</td>\n",
       "      <td>158574.898785</td>\n",
       "      <td>163932.258065</td>\n",
       "      <td>199622.222222</td>\n",
       "      <td>134753.846154</td>\n",
       "      <td>111727.450980</td>\n",
       "      <td>...</td>\n",
       "      <td>64300.000000</td>\n",
       "      <td>73801.253133</td>\n",
       "      <td>113795.021186</td>\n",
       "      <td>166126.724138</td>\n",
       "      <td>129872.266667</td>\n",
       "      <td>85731.25</td>\n",
       "      <td>155468.154762</td>\n",
       "      <td>117767.889908</td>\n",
       "      <td>73271.666667</td>\n",
       "      <td>135758.333333</td>\n",
       "    </tr>\n",
       "    <tr>\n",
       "      <th>1998-05</th>\n",
       "      <td>140950.000000</td>\n",
       "      <td>96224.683544</td>\n",
       "      <td>75494.845361</td>\n",
       "      <td>129437.209302</td>\n",
       "      <td>225182.659933</td>\n",
       "      <td>159761.943320</td>\n",
       "      <td>164704.838710</td>\n",
       "      <td>201266.666667</td>\n",
       "      <td>135176.923077</td>\n",
       "      <td>112134.509804</td>\n",
       "      <td>...</td>\n",
       "      <td>65290.000000</td>\n",
       "      <td>74167.669173</td>\n",
       "      <td>113990.254237</td>\n",
       "      <td>166356.034483</td>\n",
       "      <td>130519.466667</td>\n",
       "      <td>86262.50</td>\n",
       "      <td>156324.702381</td>\n",
       "      <td>118136.697248</td>\n",
       "      <td>73563.333333</td>\n",
       "      <td>135504.166667</td>\n",
       "    </tr>\n",
       "    <tr>\n",
       "      <th>1998-06</th>\n",
       "      <td>141782.142857</td>\n",
       "      <td>96544.303797</td>\n",
       "      <td>75693.814433</td>\n",
       "      <td>129944.186047</td>\n",
       "      <td>226913.468013</td>\n",
       "      <td>161014.574899</td>\n",
       "      <td>165487.096774</td>\n",
       "      <td>203027.777778</td>\n",
       "      <td>135569.230769</td>\n",
       "      <td>112532.026144</td>\n",
       "      <td>...</td>\n",
       "      <td>66370.000000</td>\n",
       "      <td>74512.781955</td>\n",
       "      <td>114170.550847</td>\n",
       "      <td>166554.310345</td>\n",
       "      <td>131154.666667</td>\n",
       "      <td>86825.00</td>\n",
       "      <td>157155.952381</td>\n",
       "      <td>118505.810398</td>\n",
       "      <td>73848.333333</td>\n",
       "      <td>135220.833333</td>\n",
       "    </tr>\n",
       "    <tr>\n",
       "      <th>1998-07</th>\n",
       "      <td>142660.714286</td>\n",
       "      <td>96894.303797</td>\n",
       "      <td>75881.443299</td>\n",
       "      <td>130431.627907</td>\n",
       "      <td>228617.255892</td>\n",
       "      <td>162327.125506</td>\n",
       "      <td>166282.258065</td>\n",
       "      <td>204850.000000</td>\n",
       "      <td>135938.461538</td>\n",
       "      <td>112936.209150</td>\n",
       "      <td>...</td>\n",
       "      <td>67530.000000</td>\n",
       "      <td>74843.609023</td>\n",
       "      <td>114337.500000</td>\n",
       "      <td>166734.482759</td>\n",
       "      <td>131773.866667</td>\n",
       "      <td>87412.50</td>\n",
       "      <td>157955.059524</td>\n",
       "      <td>118872.171254</td>\n",
       "      <td>74113.333333</td>\n",
       "      <td>134891.666667</td>\n",
       "    </tr>\n",
       "    <tr>\n",
       "      <th>1998-08</th>\n",
       "      <td>143578.571429</td>\n",
       "      <td>97263.291139</td>\n",
       "      <td>76065.979381</td>\n",
       "      <td>130920.465116</td>\n",
       "      <td>230323.400673</td>\n",
       "      <td>163694.736842</td>\n",
       "      <td>167097.580645</td>\n",
       "      <td>206722.222222</td>\n",
       "      <td>136323.076923</td>\n",
       "      <td>113367.581699</td>\n",
       "      <td>...</td>\n",
       "      <td>68710.000000</td>\n",
       "      <td>75163.909774</td>\n",
       "      <td>114505.084746</td>\n",
       "      <td>166891.379310</td>\n",
       "      <td>132394.666667</td>\n",
       "      <td>88000.00</td>\n",
       "      <td>158737.797619</td>\n",
       "      <td>119247.400612</td>\n",
       "      <td>74356.666667</td>\n",
       "      <td>134554.166667</td>\n",
       "    </tr>\n",
       "    <tr>\n",
       "      <th>1998-09</th>\n",
       "      <td>144546.428571</td>\n",
       "      <td>97662.025316</td>\n",
       "      <td>76264.948454</td>\n",
       "      <td>131429.302326</td>\n",
       "      <td>232044.191919</td>\n",
       "      <td>165105.668016</td>\n",
       "      <td>167946.774194</td>\n",
       "      <td>208655.555556</td>\n",
       "      <td>136723.076923</td>\n",
       "      <td>113834.771242</td>\n",
       "      <td>...</td>\n",
       "      <td>69950.000000</td>\n",
       "      <td>75473.182957</td>\n",
       "      <td>114684.851695</td>\n",
       "      <td>167034.482759</td>\n",
       "      <td>133009.600000</td>\n",
       "      <td>88625.00</td>\n",
       "      <td>159500.892857</td>\n",
       "      <td>119652.599388</td>\n",
       "      <td>74593.333333</td>\n",
       "      <td>134258.333333</td>\n",
       "    </tr>\n",
       "    <tr>\n",
       "      <th>...</th>\n",
       "      <td>...</td>\n",
       "      <td>...</td>\n",
       "      <td>...</td>\n",
       "      <td>...</td>\n",
       "      <td>...</td>\n",
       "      <td>...</td>\n",
       "      <td>...</td>\n",
       "      <td>...</td>\n",
       "      <td>...</td>\n",
       "      <td>...</td>\n",
       "      <td>...</td>\n",
       "      <td>...</td>\n",
       "      <td>...</td>\n",
       "      <td>...</td>\n",
       "      <td>...</td>\n",
       "      <td>...</td>\n",
       "      <td>...</td>\n",
       "      <td>...</td>\n",
       "      <td>...</td>\n",
       "      <td>...</td>\n",
       "      <td>...</td>\n",
       "    </tr>\n",
       "    <tr>\n",
       "      <th>2015-11</th>\n",
       "      <td>311264.285714</td>\n",
       "      <td>141730.601093</td>\n",
       "      <td>121443.809524</td>\n",
       "      <td>233249.565217</td>\n",
       "      <td>619710.866013</td>\n",
       "      <td>337829.317269</td>\n",
       "      <td>268894.354839</td>\n",
       "      <td>710105.555556</td>\n",
       "      <td>248607.317073</td>\n",
       "      <td>236040.254777</td>\n",
       "      <td>...</td>\n",
       "      <td>167394.736842</td>\n",
       "      <td>125389.108911</td>\n",
       "      <td>168288.776542</td>\n",
       "      <td>255807.438017</td>\n",
       "      <td>259984.788030</td>\n",
       "      <td>202887.50</td>\n",
       "      <td>309666.862170</td>\n",
       "      <td>172737.650602</td>\n",
       "      <td>118648.611111</td>\n",
       "      <td>216780.645161</td>\n",
       "    </tr>\n",
       "    <tr>\n",
       "      <th>2015-12</th>\n",
       "      <td>311557.142857</td>\n",
       "      <td>142266.666667</td>\n",
       "      <td>121726.666667</td>\n",
       "      <td>234248.695652</td>\n",
       "      <td>623249.428105</td>\n",
       "      <td>339675.100402</td>\n",
       "      <td>269548.387097</td>\n",
       "      <td>711733.333333</td>\n",
       "      <td>248970.731707</td>\n",
       "      <td>237662.929936</td>\n",
       "      <td>...</td>\n",
       "      <td>168678.947368</td>\n",
       "      <td>126053.465347</td>\n",
       "      <td>169201.617796</td>\n",
       "      <td>257192.561983</td>\n",
       "      <td>260365.336658</td>\n",
       "      <td>203381.25</td>\n",
       "      <td>312240.175953</td>\n",
       "      <td>173499.096386</td>\n",
       "      <td>118793.055556</td>\n",
       "      <td>217274.193548</td>\n",
       "    </tr>\n",
       "    <tr>\n",
       "      <th>2016-01</th>\n",
       "      <td>312157.142857</td>\n",
       "      <td>142794.535519</td>\n",
       "      <td>122225.714286</td>\n",
       "      <td>235396.086957</td>\n",
       "      <td>627282.516340</td>\n",
       "      <td>341557.831325</td>\n",
       "      <td>270356.451613</td>\n",
       "      <td>711855.555556</td>\n",
       "      <td>249597.560976</td>\n",
       "      <td>239499.490446</td>\n",
       "      <td>...</td>\n",
       "      <td>169657.894737</td>\n",
       "      <td>126759.405941</td>\n",
       "      <td>170195.753286</td>\n",
       "      <td>258769.421488</td>\n",
       "      <td>260863.092269</td>\n",
       "      <td>203056.25</td>\n",
       "      <td>315022.873900</td>\n",
       "      <td>174109.638554</td>\n",
       "      <td>118745.833333</td>\n",
       "      <td>217787.096774</td>\n",
       "    </tr>\n",
       "    <tr>\n",
       "      <th>2016-02</th>\n",
       "      <td>312953.571429</td>\n",
       "      <td>143153.005464</td>\n",
       "      <td>122684.761905</td>\n",
       "      <td>236348.260870</td>\n",
       "      <td>630518.218954</td>\n",
       "      <td>343457.028112</td>\n",
       "      <td>271079.838710</td>\n",
       "      <td>711266.666667</td>\n",
       "      <td>250202.439024</td>\n",
       "      <td>241308.025478</td>\n",
       "      <td>...</td>\n",
       "      <td>170073.684211</td>\n",
       "      <td>127446.534653</td>\n",
       "      <td>171161.779575</td>\n",
       "      <td>260395.041322</td>\n",
       "      <td>261325.187032</td>\n",
       "      <td>202550.00</td>\n",
       "      <td>317867.741935</td>\n",
       "      <td>174727.409639</td>\n",
       "      <td>118600.000000</td>\n",
       "      <td>218270.967742</td>\n",
       "    </tr>\n",
       "    <tr>\n",
       "      <th>2016-03</th>\n",
       "      <td>313460.714286</td>\n",
       "      <td>143471.038251</td>\n",
       "      <td>122999.047619</td>\n",
       "      <td>237197.391304</td>\n",
       "      <td>632975.245098</td>\n",
       "      <td>345584.337349</td>\n",
       "      <td>271708.870968</td>\n",
       "      <td>712933.333333</td>\n",
       "      <td>250951.219512</td>\n",
       "      <td>243038.598726</td>\n",
       "      <td>...</td>\n",
       "      <td>170400.000000</td>\n",
       "      <td>128074.504950</td>\n",
       "      <td>172088.473205</td>\n",
       "      <td>262061.983471</td>\n",
       "      <td>261867.830424</td>\n",
       "      <td>202412.50</td>\n",
       "      <td>320724.046921</td>\n",
       "      <td>175456.325301</td>\n",
       "      <td>118540.277778</td>\n",
       "      <td>219106.451613</td>\n",
       "    </tr>\n",
       "    <tr>\n",
       "      <th>2016-04</th>\n",
       "      <td>313696.428571</td>\n",
       "      <td>143810.928962</td>\n",
       "      <td>123372.380952</td>\n",
       "      <td>238236.521739</td>\n",
       "      <td>635378.758170</td>\n",
       "      <td>347831.726908</td>\n",
       "      <td>272475.000000</td>\n",
       "      <td>718650.000000</td>\n",
       "      <td>251756.097561</td>\n",
       "      <td>244973.630573</td>\n",
       "      <td>...</td>\n",
       "      <td>171663.157895</td>\n",
       "      <td>128756.683168</td>\n",
       "      <td>173197.067745</td>\n",
       "      <td>264268.595041</td>\n",
       "      <td>262605.486284</td>\n",
       "      <td>202075.00</td>\n",
       "      <td>323699.120235</td>\n",
       "      <td>176420.180723</td>\n",
       "      <td>118638.888889</td>\n",
       "      <td>220145.161290</td>\n",
       "    </tr>\n",
       "    <tr>\n",
       "      <th>2016-05</th>\n",
       "      <td>314303.571429</td>\n",
       "      <td>144160.655738</td>\n",
       "      <td>123829.523810</td>\n",
       "      <td>239513.478261</td>\n",
       "      <td>638215.277778</td>\n",
       "      <td>350338.955823</td>\n",
       "      <td>273212.903226</td>\n",
       "      <td>725816.666667</td>\n",
       "      <td>252400.000000</td>\n",
       "      <td>247105.605096</td>\n",
       "      <td>...</td>\n",
       "      <td>173531.578947</td>\n",
       "      <td>129557.673267</td>\n",
       "      <td>174461.577351</td>\n",
       "      <td>266792.561983</td>\n",
       "      <td>263569.326683</td>\n",
       "      <td>201643.75</td>\n",
       "      <td>326912.609971</td>\n",
       "      <td>177502.409639</td>\n",
       "      <td>118984.722222</td>\n",
       "      <td>221035.483871</td>\n",
       "    </tr>\n",
       "    <tr>\n",
       "      <th>2016-06</th>\n",
       "      <td>315382.142857</td>\n",
       "      <td>144556.830601</td>\n",
       "      <td>124296.190476</td>\n",
       "      <td>241007.391304</td>\n",
       "      <td>640901.633987</td>\n",
       "      <td>353155.421687</td>\n",
       "      <td>273612.096774</td>\n",
       "      <td>731994.444444</td>\n",
       "      <td>253858.536585</td>\n",
       "      <td>249234.522293</td>\n",
       "      <td>...</td>\n",
       "      <td>174636.842105</td>\n",
       "      <td>130387.623762</td>\n",
       "      <td>175748.230536</td>\n",
       "      <td>269104.132231</td>\n",
       "      <td>264517.955112</td>\n",
       "      <td>201768.75</td>\n",
       "      <td>330515.542522</td>\n",
       "      <td>178545.180723</td>\n",
       "      <td>119466.666667</td>\n",
       "      <td>221854.838710</td>\n",
       "    </tr>\n",
       "    <tr>\n",
       "      <th>2016-07</th>\n",
       "      <td>316225.000000</td>\n",
       "      <td>145043.169399</td>\n",
       "      <td>124788.571429</td>\n",
       "      <td>242707.391304</td>\n",
       "      <td>643879.901961</td>\n",
       "      <td>356057.831325</td>\n",
       "      <td>273503.225806</td>\n",
       "      <td>736627.777778</td>\n",
       "      <td>255792.682927</td>\n",
       "      <td>251260.891720</td>\n",
       "      <td>...</td>\n",
       "      <td>175131.578947</td>\n",
       "      <td>131230.940594</td>\n",
       "      <td>177042.770475</td>\n",
       "      <td>271187.603306</td>\n",
       "      <td>265324.438903</td>\n",
       "      <td>202412.50</td>\n",
       "      <td>334359.237537</td>\n",
       "      <td>179535.542169</td>\n",
       "      <td>119955.555556</td>\n",
       "      <td>222496.774194</td>\n",
       "    </tr>\n",
       "    <tr>\n",
       "      <th>2016-08</th>\n",
       "      <td>316414.285714</td>\n",
       "      <td>145360.655738</td>\n",
       "      <td>125259.047619</td>\n",
       "      <td>244382.608696</td>\n",
       "      <td>647455.473856</td>\n",
       "      <td>358515.261044</td>\n",
       "      <td>273581.451613</td>\n",
       "      <td>740077.777778</td>\n",
       "      <td>256992.682927</td>\n",
       "      <td>253231.719745</td>\n",
       "      <td>...</td>\n",
       "      <td>176289.473684</td>\n",
       "      <td>132098.762376</td>\n",
       "      <td>178306.167846</td>\n",
       "      <td>273137.190083</td>\n",
       "      <td>266043.640898</td>\n",
       "      <td>202943.75</td>\n",
       "      <td>337785.043988</td>\n",
       "      <td>180594.578313</td>\n",
       "      <td>120202.777778</td>\n",
       "      <td>222780.645161</td>\n",
       "    </tr>\n",
       "    <tr>\n",
       "      <th>2016-09</th>\n",
       "      <td>316246.428571</td>\n",
       "      <td>145552.459016</td>\n",
       "      <td>125752.380952</td>\n",
       "      <td>245590.000000</td>\n",
       "      <td>651527.614379</td>\n",
       "      <td>360764.257028</td>\n",
       "      <td>274389.516129</td>\n",
       "      <td>742950.000000</td>\n",
       "      <td>257470.731707</td>\n",
       "      <td>255287.261146</td>\n",
       "      <td>...</td>\n",
       "      <td>177873.684211</td>\n",
       "      <td>132983.415842</td>\n",
       "      <td>179506.066734</td>\n",
       "      <td>275080.991736</td>\n",
       "      <td>266878.304239</td>\n",
       "      <td>202743.75</td>\n",
       "      <td>340733.724340</td>\n",
       "      <td>181646.385542</td>\n",
       "      <td>120304.166667</td>\n",
       "      <td>223006.451613</td>\n",
       "    </tr>\n",
       "    <tr>\n",
       "      <th>2016-10</th>\n",
       "      <td>315850.000000</td>\n",
       "      <td>145878.142077</td>\n",
       "      <td>126378.095238</td>\n",
       "      <td>246672.173913</td>\n",
       "      <td>655229.248366</td>\n",
       "      <td>363034.538153</td>\n",
       "      <td>275412.903226</td>\n",
       "      <td>747650.000000</td>\n",
       "      <td>257734.146341</td>\n",
       "      <td>257697.579618</td>\n",
       "      <td>...</td>\n",
       "      <td>179073.684211</td>\n",
       "      <td>133883.168317</td>\n",
       "      <td>180688.473205</td>\n",
       "      <td>277112.396694</td>\n",
       "      <td>267715.211970</td>\n",
       "      <td>202568.75</td>\n",
       "      <td>343657.771261</td>\n",
       "      <td>182598.192771</td>\n",
       "      <td>120480.555556</td>\n",
       "      <td>223303.225806</td>\n",
       "    </tr>\n",
       "    <tr>\n",
       "      <th>2016-11</th>\n",
       "      <td>315335.714286</td>\n",
       "      <td>146347.540984</td>\n",
       "      <td>126999.047619</td>\n",
       "      <td>247846.956522</td>\n",
       "      <td>658807.516340</td>\n",
       "      <td>365113.654618</td>\n",
       "      <td>276244.354839</td>\n",
       "      <td>753733.333333</td>\n",
       "      <td>257726.829268</td>\n",
       "      <td>260078.343949</td>\n",
       "      <td>...</td>\n",
       "      <td>179805.263158</td>\n",
       "      <td>134759.900990</td>\n",
       "      <td>181772.800809</td>\n",
       "      <td>279041.322314</td>\n",
       "      <td>268568.578554</td>\n",
       "      <td>202768.75</td>\n",
       "      <td>346723.753666</td>\n",
       "      <td>183534.036145</td>\n",
       "      <td>120768.055556</td>\n",
       "      <td>223309.677419</td>\n",
       "    </tr>\n",
       "    <tr>\n",
       "      <th>2016-12</th>\n",
       "      <td>315107.142857</td>\n",
       "      <td>146681.967213</td>\n",
       "      <td>127578.095238</td>\n",
       "      <td>248659.130435</td>\n",
       "      <td>662840.604575</td>\n",
       "      <td>367170.682731</td>\n",
       "      <td>276852.419355</td>\n",
       "      <td>760644.444444</td>\n",
       "      <td>257663.414634</td>\n",
       "      <td>262232.101911</td>\n",
       "      <td>...</td>\n",
       "      <td>180210.526316</td>\n",
       "      <td>135677.722772</td>\n",
       "      <td>182695.449949</td>\n",
       "      <td>280928.099174</td>\n",
       "      <td>269455.361596</td>\n",
       "      <td>204150.00</td>\n",
       "      <td>349664.516129</td>\n",
       "      <td>184421.385542</td>\n",
       "      <td>120848.611111</td>\n",
       "      <td>223051.612903</td>\n",
       "    </tr>\n",
       "    <tr>\n",
       "      <th>2017-01</th>\n",
       "      <td>315014.285714</td>\n",
       "      <td>146875.409836</td>\n",
       "      <td>128187.619048</td>\n",
       "      <td>249208.695652</td>\n",
       "      <td>667436.846405</td>\n",
       "      <td>369793.574297</td>\n",
       "      <td>277236.290323</td>\n",
       "      <td>766872.222222</td>\n",
       "      <td>258034.146341</td>\n",
       "      <td>264208.917197</td>\n",
       "      <td>...</td>\n",
       "      <td>180710.526316</td>\n",
       "      <td>136774.009901</td>\n",
       "      <td>183678.361982</td>\n",
       "      <td>282993.388430</td>\n",
       "      <td>270547.630923</td>\n",
       "      <td>206756.25</td>\n",
       "      <td>353132.258065</td>\n",
       "      <td>185277.108434</td>\n",
       "      <td>120762.500000</td>\n",
       "      <td>222793.548387</td>\n",
       "    </tr>\n",
       "    <tr>\n",
       "      <th>2017-02</th>\n",
       "      <td>315110.714286</td>\n",
       "      <td>147059.016393</td>\n",
       "      <td>128745.714286</td>\n",
       "      <td>250129.130435</td>\n",
       "      <td>671390.767974</td>\n",
       "      <td>372642.570281</td>\n",
       "      <td>277265.322581</td>\n",
       "      <td>770794.444444</td>\n",
       "      <td>258946.341463</td>\n",
       "      <td>265791.719745</td>\n",
       "      <td>...</td>\n",
       "      <td>181273.684211</td>\n",
       "      <td>137885.891089</td>\n",
       "      <td>184729.120324</td>\n",
       "      <td>284801.652893</td>\n",
       "      <td>271580.299252</td>\n",
       "      <td>208956.25</td>\n",
       "      <td>356775.659824</td>\n",
       "      <td>186040.662651</td>\n",
       "      <td>120466.666667</td>\n",
       "      <td>222680.645161</td>\n",
       "    </tr>\n",
       "    <tr>\n",
       "      <th>2017-03</th>\n",
       "      <td>315435.714286</td>\n",
       "      <td>147340.983607</td>\n",
       "      <td>129285.714286</td>\n",
       "      <td>251406.521739</td>\n",
       "      <td>674429.084967</td>\n",
       "      <td>374909.638554</td>\n",
       "      <td>277226.612903</td>\n",
       "      <td>772227.777778</td>\n",
       "      <td>260185.365854</td>\n",
       "      <td>266957.961783</td>\n",
       "      <td>...</td>\n",
       "      <td>181757.894737</td>\n",
       "      <td>138864.108911</td>\n",
       "      <td>185724.368049</td>\n",
       "      <td>286441.322314</td>\n",
       "      <td>272468.578554</td>\n",
       "      <td>209837.50</td>\n",
       "      <td>359890.615836</td>\n",
       "      <td>186850.301205</td>\n",
       "      <td>120447.222222</td>\n",
       "      <td>222745.161290</td>\n",
       "    </tr>\n",
       "    <tr>\n",
       "      <th>2017-04</th>\n",
       "      <td>316089.285714</td>\n",
       "      <td>147797.267760</td>\n",
       "      <td>129865.714286</td>\n",
       "      <td>252921.739130</td>\n",
       "      <td>677681.944444</td>\n",
       "      <td>377224.899598</td>\n",
       "      <td>277298.387097</td>\n",
       "      <td>773338.888889</td>\n",
       "      <td>261336.585366</td>\n",
       "      <td>268317.452229</td>\n",
       "      <td>...</td>\n",
       "      <td>182252.631579</td>\n",
       "      <td>139768.564356</td>\n",
       "      <td>186767.745197</td>\n",
       "      <td>288475.206612</td>\n",
       "      <td>273365.087282</td>\n",
       "      <td>210731.25</td>\n",
       "      <td>363562.756598</td>\n",
       "      <td>187787.951807</td>\n",
       "      <td>120848.611111</td>\n",
       "      <td>222961.290323</td>\n",
       "    </tr>\n",
       "    <tr>\n",
       "      <th>2017-05</th>\n",
       "      <td>316835.714286</td>\n",
       "      <td>148386.885246</td>\n",
       "      <td>130563.809524</td>\n",
       "      <td>254580.869565</td>\n",
       "      <td>682138.398693</td>\n",
       "      <td>379986.746988</td>\n",
       "      <td>277331.451613</td>\n",
       "      <td>774477.777778</td>\n",
       "      <td>261956.097561</td>\n",
       "      <td>269931.974522</td>\n",
       "      <td>...</td>\n",
       "      <td>183010.526316</td>\n",
       "      <td>140698.514851</td>\n",
       "      <td>187958.847321</td>\n",
       "      <td>291066.115702</td>\n",
       "      <td>274506.234414</td>\n",
       "      <td>211625.00</td>\n",
       "      <td>368385.043988</td>\n",
       "      <td>188812.951807</td>\n",
       "      <td>121268.055556</td>\n",
       "      <td>223045.161290</td>\n",
       "    </tr>\n",
       "    <tr>\n",
       "      <th>2017-06</th>\n",
       "      <td>317432.142857</td>\n",
       "      <td>148874.863388</td>\n",
       "      <td>131330.476190</td>\n",
       "      <td>256224.347826</td>\n",
       "      <td>687223.774510</td>\n",
       "      <td>382374.297189</td>\n",
       "      <td>276742.741935</td>\n",
       "      <td>776488.888889</td>\n",
       "      <td>261397.560976</td>\n",
       "      <td>271434.394904</td>\n",
       "      <td>...</td>\n",
       "      <td>184315.789474</td>\n",
       "      <td>141625.990099</td>\n",
       "      <td>189067.340748</td>\n",
       "      <td>293866.115702</td>\n",
       "      <td>275605.985037</td>\n",
       "      <td>212118.75</td>\n",
       "      <td>372732.551320</td>\n",
       "      <td>189769.578313</td>\n",
       "      <td>121655.555556</td>\n",
       "      <td>222932.258065</td>\n",
       "    </tr>\n",
       "    <tr>\n",
       "      <th>2017-07</th>\n",
       "      <td>317921.428571</td>\n",
       "      <td>149255.191257</td>\n",
       "      <td>131952.380952</td>\n",
       "      <td>257896.086957</td>\n",
       "      <td>692367.156863</td>\n",
       "      <td>384512.449799</td>\n",
       "      <td>277025.806452</td>\n",
       "      <td>779644.444444</td>\n",
       "      <td>261448.780488</td>\n",
       "      <td>273004.331210</td>\n",
       "      <td>...</td>\n",
       "      <td>185515.789474</td>\n",
       "      <td>142529.950495</td>\n",
       "      <td>189960.970677</td>\n",
       "      <td>296796.694215</td>\n",
       "      <td>276557.855362</td>\n",
       "      <td>212768.75</td>\n",
       "      <td>376168.035191</td>\n",
       "      <td>190738.554217</td>\n",
       "      <td>122191.666667</td>\n",
       "      <td>223164.516129</td>\n",
       "    </tr>\n",
       "    <tr>\n",
       "      <th>2017-08</th>\n",
       "      <td>318610.714286</td>\n",
       "      <td>149675.956284</td>\n",
       "      <td>132379.047619</td>\n",
       "      <td>259598.260870</td>\n",
       "      <td>697869.607843</td>\n",
       "      <td>386958.634538</td>\n",
       "      <td>278666.129032</td>\n",
       "      <td>782905.555556</td>\n",
       "      <td>262785.365854</td>\n",
       "      <td>274756.815287</td>\n",
       "      <td>...</td>\n",
       "      <td>186005.263158</td>\n",
       "      <td>143395.049505</td>\n",
       "      <td>190765.824065</td>\n",
       "      <td>299311.570248</td>\n",
       "      <td>277450.872818</td>\n",
       "      <td>214225.00</td>\n",
       "      <td>379200.586510</td>\n",
       "      <td>191665.963855</td>\n",
       "      <td>122726.388889</td>\n",
       "      <td>223938.709677</td>\n",
       "    </tr>\n",
       "    <tr>\n",
       "      <th>2017-09</th>\n",
       "      <td>319382.142857</td>\n",
       "      <td>150125.136612</td>\n",
       "      <td>132778.095238</td>\n",
       "      <td>261243.043478</td>\n",
       "      <td>704045.669935</td>\n",
       "      <td>389367.469880</td>\n",
       "      <td>280383.870968</td>\n",
       "      <td>785277.777778</td>\n",
       "      <td>263839.024390</td>\n",
       "      <td>276502.292994</td>\n",
       "      <td>...</td>\n",
       "      <td>186068.421053</td>\n",
       "      <td>144192.574257</td>\n",
       "      <td>191688.776542</td>\n",
       "      <td>301129.752066</td>\n",
       "      <td>278439.152120</td>\n",
       "      <td>215968.75</td>\n",
       "      <td>382244.574780</td>\n",
       "      <td>192608.132530</td>\n",
       "      <td>123201.388889</td>\n",
       "      <td>224658.064516</td>\n",
       "    </tr>\n",
       "    <tr>\n",
       "      <th>2017-10</th>\n",
       "      <td>320185.714286</td>\n",
       "      <td>150537.704918</td>\n",
       "      <td>132973.333333</td>\n",
       "      <td>262884.347826</td>\n",
       "      <td>710515.114379</td>\n",
       "      <td>391558.634538</td>\n",
       "      <td>281137.096774</td>\n",
       "      <td>786261.111111</td>\n",
       "      <td>265412.195122</td>\n",
       "      <td>277964.968153</td>\n",
       "      <td>...</td>\n",
       "      <td>186310.526316</td>\n",
       "      <td>144935.643564</td>\n",
       "      <td>192557.027300</td>\n",
       "      <td>302774.380165</td>\n",
       "      <td>279258.603491</td>\n",
       "      <td>217168.75</td>\n",
       "      <td>385615.835777</td>\n",
       "      <td>193565.361446</td>\n",
       "      <td>123587.500000</td>\n",
       "      <td>225403.225806</td>\n",
       "    </tr>\n",
       "    <tr>\n",
       "      <th>2017-11</th>\n",
       "      <td>321378.571429</td>\n",
       "      <td>150969.945355</td>\n",
       "      <td>133020.000000</td>\n",
       "      <td>264369.130435</td>\n",
       "      <td>716760.866013</td>\n",
       "      <td>393813.253012</td>\n",
       "      <td>281725.000000</td>\n",
       "      <td>788122.222222</td>\n",
       "      <td>269814.634146</td>\n",
       "      <td>279066.114650</td>\n",
       "      <td>...</td>\n",
       "      <td>187157.894737</td>\n",
       "      <td>145673.267327</td>\n",
       "      <td>193162.992922</td>\n",
       "      <td>304854.545455</td>\n",
       "      <td>279708.728180</td>\n",
       "      <td>217306.25</td>\n",
       "      <td>389654.545455</td>\n",
       "      <td>194497.289157</td>\n",
       "      <td>123841.666667</td>\n",
       "      <td>226500.000000</td>\n",
       "    </tr>\n",
       "    <tr>\n",
       "      <th>2017-12</th>\n",
       "      <td>322657.142857</td>\n",
       "      <td>151629.508197</td>\n",
       "      <td>133188.571429</td>\n",
       "      <td>265908.260870</td>\n",
       "      <td>723263.480392</td>\n",
       "      <td>396777.510040</td>\n",
       "      <td>282175.806452</td>\n",
       "      <td>790450.000000</td>\n",
       "      <td>274487.804878</td>\n",
       "      <td>280250.955414</td>\n",
       "      <td>...</td>\n",
       "      <td>188426.315789</td>\n",
       "      <td>146519.306931</td>\n",
       "      <td>193761.274014</td>\n",
       "      <td>307212.396694</td>\n",
       "      <td>280219.700748</td>\n",
       "      <td>216318.75</td>\n",
       "      <td>394339.589443</td>\n",
       "      <td>195418.072289</td>\n",
       "      <td>124022.222222</td>\n",
       "      <td>227525.806452</td>\n",
       "    </tr>\n",
       "    <tr>\n",
       "      <th>2018-01</th>\n",
       "      <td>323775.000000</td>\n",
       "      <td>152402.732240</td>\n",
       "      <td>133522.857143</td>\n",
       "      <td>267327.826087</td>\n",
       "      <td>729496.405229</td>\n",
       "      <td>399905.220884</td>\n",
       "      <td>282852.419355</td>\n",
       "      <td>793622.222222</td>\n",
       "      <td>277912.195122</td>\n",
       "      <td>281561.401274</td>\n",
       "      <td>...</td>\n",
       "      <td>189621.052632</td>\n",
       "      <td>147265.841584</td>\n",
       "      <td>194417.492417</td>\n",
       "      <td>309129.752066</td>\n",
       "      <td>280900.997506</td>\n",
       "      <td>214750.00</td>\n",
       "      <td>398688.563050</td>\n",
       "      <td>196397.891566</td>\n",
       "      <td>124104.166667</td>\n",
       "      <td>228564.516129</td>\n",
       "    </tr>\n",
       "    <tr>\n",
       "      <th>2018-02</th>\n",
       "      <td>324167.857143</td>\n",
       "      <td>153625.683060</td>\n",
       "      <td>134456.190476</td>\n",
       "      <td>268714.782609</td>\n",
       "      <td>735525.980392</td>\n",
       "      <td>403134.939759</td>\n",
       "      <td>283826.612903</td>\n",
       "      <td>798838.888889</td>\n",
       "      <td>279470.731707</td>\n",
       "      <td>283416.178344</td>\n",
       "      <td>...</td>\n",
       "      <td>191110.526316</td>\n",
       "      <td>148351.980198</td>\n",
       "      <td>195503.134479</td>\n",
       "      <td>311445.454545</td>\n",
       "      <td>282143.640898</td>\n",
       "      <td>213581.25</td>\n",
       "      <td>402129.912023</td>\n",
       "      <td>197306.024096</td>\n",
       "      <td>124334.722222</td>\n",
       "      <td>229938.709677</td>\n",
       "    </tr>\n",
       "    <tr>\n",
       "      <th>2018-03</th>\n",
       "      <td>323692.857143</td>\n",
       "      <td>155504.371585</td>\n",
       "      <td>136192.380952</td>\n",
       "      <td>270488.695652</td>\n",
       "      <td>742146.323529</td>\n",
       "      <td>407292.369478</td>\n",
       "      <td>284893.548387</td>\n",
       "      <td>804600.000000</td>\n",
       "      <td>276529.268293</td>\n",
       "      <td>286090.828025</td>\n",
       "      <td>...</td>\n",
       "      <td>193236.842105</td>\n",
       "      <td>150242.079208</td>\n",
       "      <td>197023.356926</td>\n",
       "      <td>314685.950413</td>\n",
       "      <td>284158.354115</td>\n",
       "      <td>213250.00</td>\n",
       "      <td>405867.155425</td>\n",
       "      <td>198282.228916</td>\n",
       "      <td>124972.222222</td>\n",
       "      <td>230996.774194</td>\n",
       "    </tr>\n",
       "    <tr>\n",
       "      <th>2018-04</th>\n",
       "      <td>323046.428571</td>\n",
       "      <td>157033.879781</td>\n",
       "      <td>137620.000000</td>\n",
       "      <td>271952.173913</td>\n",
       "      <td>746329.084967</td>\n",
       "      <td>410528.915663</td>\n",
       "      <td>285431.451613</td>\n",
       "      <td>806166.666667</td>\n",
       "      <td>271897.560976</td>\n",
       "      <td>288191.592357</td>\n",
       "      <td>...</td>\n",
       "      <td>194715.789474</td>\n",
       "      <td>151884.158416</td>\n",
       "      <td>198029.726997</td>\n",
       "      <td>317001.652893</td>\n",
       "      <td>285568.827930</td>\n",
       "      <td>213150.00</td>\n",
       "      <td>408570.381232</td>\n",
       "      <td>199015.361446</td>\n",
       "      <td>125476.388889</td>\n",
       "      <td>231338.709677</td>\n",
       "    </tr>\n",
       "  </tbody>\n",
       "</table>\n",
       "<p>265 rows × 50 columns</p>\n",
       "</div>"
      ],
      "text/plain": [
       "State               AK             AL             AR             AZ  \\\n",
       "1996-04  128382.142857   86795.569620   68868.041237  116202.790698   \n",
       "1996-05  128832.142857   87122.151899   69015.463918  116562.790698   \n",
       "1996-06  129253.571429   87460.759494   69140.206186  116934.883721   \n",
       "1996-07  129639.285714   87798.734177   69262.886598  117315.348837   \n",
       "1996-08  130028.571429   88156.962025   69378.350515  117719.534884   \n",
       "1996-09  130367.857143   88531.012658   69507.216495  118150.232558   \n",
       "1996-10  130710.714286   88918.987342   69674.226804  118626.511628   \n",
       "1996-11  131085.714286   89327.848101   69885.567010  119141.395349   \n",
       "1996-12  131557.142857   89800.632911   70167.010309  119773.488372   \n",
       "1997-01  132107.142857   90325.949367   70535.051546  120472.093023   \n",
       "1997-02  132546.428571   90846.835443   70964.948454  121125.581395   \n",
       "1997-03  132907.142857   91330.379747   71393.814433  121678.604651   \n",
       "1997-04  133275.000000   91822.151899   71835.051546  122216.744186   \n",
       "1997-05  133653.571429   92291.139241   72242.268041  122730.232558   \n",
       "1997-06  134060.714286   92729.746835   72613.402062  123226.511628   \n",
       "1997-07  134489.285714   93129.746835   72945.360825  123704.651163   \n",
       "1997-08  134932.142857   93494.936709   73230.927835  124191.627907   \n",
       "1997-09  135414.285714   93821.518987   73488.659794  124680.000000   \n",
       "1997-10  135932.142857   94124.683544   73734.020619  125213.953488   \n",
       "1997-11  136507.142857   94393.037975   73951.546392  125780.000000   \n",
       "1997-12  137228.571429   94697.468354   74201.030928  126442.325581   \n",
       "1998-01  138032.142857   95034.177215   74497.938144  127160.930233   \n",
       "1998-02  138782.142857   95352.531646   74803.092784  127824.651163   \n",
       "1998-03  139453.571429   95629.113924   75053.608247  128383.255814   \n",
       "1998-04  140178.571429   95923.417722   75288.659794  128922.790698   \n",
       "1998-05  140950.000000   96224.683544   75494.845361  129437.209302   \n",
       "1998-06  141782.142857   96544.303797   75693.814433  129944.186047   \n",
       "1998-07  142660.714286   96894.303797   75881.443299  130431.627907   \n",
       "1998-08  143578.571429   97263.291139   76065.979381  130920.465116   \n",
       "1998-09  144546.428571   97662.025316   76264.948454  131429.302326   \n",
       "...                ...            ...            ...            ...   \n",
       "2015-11  311264.285714  141730.601093  121443.809524  233249.565217   \n",
       "2015-12  311557.142857  142266.666667  121726.666667  234248.695652   \n",
       "2016-01  312157.142857  142794.535519  122225.714286  235396.086957   \n",
       "2016-02  312953.571429  143153.005464  122684.761905  236348.260870   \n",
       "2016-03  313460.714286  143471.038251  122999.047619  237197.391304   \n",
       "2016-04  313696.428571  143810.928962  123372.380952  238236.521739   \n",
       "2016-05  314303.571429  144160.655738  123829.523810  239513.478261   \n",
       "2016-06  315382.142857  144556.830601  124296.190476  241007.391304   \n",
       "2016-07  316225.000000  145043.169399  124788.571429  242707.391304   \n",
       "2016-08  316414.285714  145360.655738  125259.047619  244382.608696   \n",
       "2016-09  316246.428571  145552.459016  125752.380952  245590.000000   \n",
       "2016-10  315850.000000  145878.142077  126378.095238  246672.173913   \n",
       "2016-11  315335.714286  146347.540984  126999.047619  247846.956522   \n",
       "2016-12  315107.142857  146681.967213  127578.095238  248659.130435   \n",
       "2017-01  315014.285714  146875.409836  128187.619048  249208.695652   \n",
       "2017-02  315110.714286  147059.016393  128745.714286  250129.130435   \n",
       "2017-03  315435.714286  147340.983607  129285.714286  251406.521739   \n",
       "2017-04  316089.285714  147797.267760  129865.714286  252921.739130   \n",
       "2017-05  316835.714286  148386.885246  130563.809524  254580.869565   \n",
       "2017-06  317432.142857  148874.863388  131330.476190  256224.347826   \n",
       "2017-07  317921.428571  149255.191257  131952.380952  257896.086957   \n",
       "2017-08  318610.714286  149675.956284  132379.047619  259598.260870   \n",
       "2017-09  319382.142857  150125.136612  132778.095238  261243.043478   \n",
       "2017-10  320185.714286  150537.704918  132973.333333  262884.347826   \n",
       "2017-11  321378.571429  150969.945355  133020.000000  264369.130435   \n",
       "2017-12  322657.142857  151629.508197  133188.571429  265908.260870   \n",
       "2018-01  323775.000000  152402.732240  133522.857143  267327.826087   \n",
       "2018-02  324167.857143  153625.683060  134456.190476  268714.782609   \n",
       "2018-03  323692.857143  155504.371585  136192.380952  270488.695652   \n",
       "2018-04  323046.428571  157033.879781  137620.000000  271952.173913   \n",
       "\n",
       "State               CA             CO             CT             DC  \\\n",
       "1996-04  200220.959596  142561.943320  157189.516129  189216.666667   \n",
       "1996-05  200124.831650  142765.991903  157063.709677  188611.111111   \n",
       "1996-06  200035.942761  142985.425101  156926.612903  188011.111111   \n",
       "1996-07  199965.572391  143204.453441  156778.225806  187438.888889   \n",
       "1996-08  199958.754209  143461.943320  156640.322581  186900.000000   \n",
       "1996-09  200037.626263  143752.631579  156525.806452  186494.444444   \n",
       "1996-10  200277.020202  144106.882591  156462.903226  186222.222222   \n",
       "1996-11  200643.013468  144507.287449  156439.516129  186116.666667   \n",
       "1996-12  201309.680135  145057.085020  156570.161290  186305.555556   \n",
       "1997-01  202229.124579  145729.149798  156846.774194  186750.000000   \n",
       "1997-02  203152.525253  146382.591093  157122.580645  187261.111111   \n",
       "1997-03  203938.804714  146967.611336  157308.064516  187677.777778   \n",
       "1997-04  204815.404040  147608.097166  157520.161290  188144.444444   \n",
       "1997-05  205796.043771  148289.878543  157781.451613  188683.333333   \n",
       "1997-06  206873.737374  149005.263158  158066.935484  189227.777778   \n",
       "1997-07  208042.003367  149753.441296  158381.451613  189800.000000   \n",
       "1997-08  209309.427609  150531.983806  158727.419355  190394.444444   \n",
       "1997-09  210679.797980  151343.724696  159121.774194  191033.333333   \n",
       "1997-10  212206.818182  152185.829960  159588.709677  191777.777778   \n",
       "1997-11  213845.202020  153072.874494  160112.903226  192655.555556   \n",
       "1997-12  215770.202020  154108.097166  160799.193548  193827.777778   \n",
       "1998-01  217879.966330  155254.655870  161628.225806  195233.333333   \n",
       "1998-02  219884.932660  156369.230769  162450.806452  196688.888889   \n",
       "1998-03  221657.828283  157434.412955  163176.612903  198083.333333   \n",
       "1998-04  223432.575758  158574.898785  163932.258065  199622.222222   \n",
       "1998-05  225182.659933  159761.943320  164704.838710  201266.666667   \n",
       "1998-06  226913.468013  161014.574899  165487.096774  203027.777778   \n",
       "1998-07  228617.255892  162327.125506  166282.258065  204850.000000   \n",
       "1998-08  230323.400673  163694.736842  167097.580645  206722.222222   \n",
       "1998-09  232044.191919  165105.668016  167946.774194  208655.555556   \n",
       "...                ...            ...            ...            ...   \n",
       "2015-11  619710.866013  337829.317269  268894.354839  710105.555556   \n",
       "2015-12  623249.428105  339675.100402  269548.387097  711733.333333   \n",
       "2016-01  627282.516340  341557.831325  270356.451613  711855.555556   \n",
       "2016-02  630518.218954  343457.028112  271079.838710  711266.666667   \n",
       "2016-03  632975.245098  345584.337349  271708.870968  712933.333333   \n",
       "2016-04  635378.758170  347831.726908  272475.000000  718650.000000   \n",
       "2016-05  638215.277778  350338.955823  273212.903226  725816.666667   \n",
       "2016-06  640901.633987  353155.421687  273612.096774  731994.444444   \n",
       "2016-07  643879.901961  356057.831325  273503.225806  736627.777778   \n",
       "2016-08  647455.473856  358515.261044  273581.451613  740077.777778   \n",
       "2016-09  651527.614379  360764.257028  274389.516129  742950.000000   \n",
       "2016-10  655229.248366  363034.538153  275412.903226  747650.000000   \n",
       "2016-11  658807.516340  365113.654618  276244.354839  753733.333333   \n",
       "2016-12  662840.604575  367170.682731  276852.419355  760644.444444   \n",
       "2017-01  667436.846405  369793.574297  277236.290323  766872.222222   \n",
       "2017-02  671390.767974  372642.570281  277265.322581  770794.444444   \n",
       "2017-03  674429.084967  374909.638554  277226.612903  772227.777778   \n",
       "2017-04  677681.944444  377224.899598  277298.387097  773338.888889   \n",
       "2017-05  682138.398693  379986.746988  277331.451613  774477.777778   \n",
       "2017-06  687223.774510  382374.297189  276742.741935  776488.888889   \n",
       "2017-07  692367.156863  384512.449799  277025.806452  779644.444444   \n",
       "2017-08  697869.607843  386958.634538  278666.129032  782905.555556   \n",
       "2017-09  704045.669935  389367.469880  280383.870968  785277.777778   \n",
       "2017-10  710515.114379  391558.634538  281137.096774  786261.111111   \n",
       "2017-11  716760.866013  393813.253012  281725.000000  788122.222222   \n",
       "2017-12  723263.480392  396777.510040  282175.806452  790450.000000   \n",
       "2018-01  729496.405229  399905.220884  282852.419355  793622.222222   \n",
       "2018-02  735525.980392  403134.939759  283826.612903  798838.888889   \n",
       "2018-03  742146.323529  407292.369478  284893.548387  804600.000000   \n",
       "2018-04  746329.084967  410528.915663  285431.451613  806166.666667   \n",
       "\n",
       "State               DE             FL  ...             SD             TN  \\\n",
       "1996-04  125784.615385  104529.019608  ...   54320.000000   66087.468672   \n",
       "1996-05  126234.615385  104594.117647  ...   54640.000000   66340.852130   \n",
       "1996-06  126665.384615  104662.352941  ...   54960.000000   66594.987469   \n",
       "1996-07  127026.923077  104727.058824  ...   55290.000000   66843.107769   \n",
       "1996-08  127346.153846  104816.993464  ...   55660.000000   67081.704261   \n",
       "1996-09  127603.846154  104938.562092  ...   56020.000000   67325.563910   \n",
       "1996-10  127838.461538  105112.026144  ...   56390.000000   67585.463659   \n",
       "1996-11  128046.153846  105324.183007  ...   56660.000000   67844.611529   \n",
       "1996-12  128357.692308  105651.895425  ...   56980.000000   68158.646617   \n",
       "1997-01  128707.692308  106072.026144  ...   57450.000000   68534.837093   \n",
       "1997-02  128965.384615  106466.666667  ...   57970.000000   68911.779449   \n",
       "1997-03  129069.230769  106759.477124  ...   58290.000000   69261.403509   \n",
       "1997-04  129176.923077  107040.784314  ...   58600.000000   69609.022556   \n",
       "1997-05  129315.384615  107319.477124  ...   58880.000000   69951.127820   \n",
       "1997-06  129515.384615  107597.908497  ...   59150.000000   70278.446115   \n",
       "1997-07  129726.923077  107870.588235  ...   59410.000000   70592.731830   \n",
       "1997-08  130050.000000  108157.254902  ...   59670.000000   70899.498747   \n",
       "1997-09  130453.846154  108470.849673  ...   59950.000000   71200.250627   \n",
       "1997-10  130923.076923  108829.673203  ...   60340.000000   71514.035088   \n",
       "1997-11  131476.923077  109227.843137  ...   60700.000000   71827.568922   \n",
       "1997-12  132215.384615  109734.379085  ...   61130.000000   72190.977444   \n",
       "1998-01  133034.615385  110326.013072  ...   61800.000000   72612.531328   \n",
       "1998-02  133742.307692  110876.470588  ...   62600.000000   73032.330827   \n",
       "1998-03  134261.538462  111313.986928  ...   63400.000000   73416.541353   \n",
       "1998-04  134753.846154  111727.450980  ...   64300.000000   73801.253133   \n",
       "1998-05  135176.923077  112134.509804  ...   65290.000000   74167.669173   \n",
       "1998-06  135569.230769  112532.026144  ...   66370.000000   74512.781955   \n",
       "1998-07  135938.461538  112936.209150  ...   67530.000000   74843.609023   \n",
       "1998-08  136323.076923  113367.581699  ...   68710.000000   75163.909774   \n",
       "1998-09  136723.076923  113834.771242  ...   69950.000000   75473.182957   \n",
       "...                ...            ...  ...            ...            ...   \n",
       "2015-11  248607.317073  236040.254777  ...  167394.736842  125389.108911   \n",
       "2015-12  248970.731707  237662.929936  ...  168678.947368  126053.465347   \n",
       "2016-01  249597.560976  239499.490446  ...  169657.894737  126759.405941   \n",
       "2016-02  250202.439024  241308.025478  ...  170073.684211  127446.534653   \n",
       "2016-03  250951.219512  243038.598726  ...  170400.000000  128074.504950   \n",
       "2016-04  251756.097561  244973.630573  ...  171663.157895  128756.683168   \n",
       "2016-05  252400.000000  247105.605096  ...  173531.578947  129557.673267   \n",
       "2016-06  253858.536585  249234.522293  ...  174636.842105  130387.623762   \n",
       "2016-07  255792.682927  251260.891720  ...  175131.578947  131230.940594   \n",
       "2016-08  256992.682927  253231.719745  ...  176289.473684  132098.762376   \n",
       "2016-09  257470.731707  255287.261146  ...  177873.684211  132983.415842   \n",
       "2016-10  257734.146341  257697.579618  ...  179073.684211  133883.168317   \n",
       "2016-11  257726.829268  260078.343949  ...  179805.263158  134759.900990   \n",
       "2016-12  257663.414634  262232.101911  ...  180210.526316  135677.722772   \n",
       "2017-01  258034.146341  264208.917197  ...  180710.526316  136774.009901   \n",
       "2017-02  258946.341463  265791.719745  ...  181273.684211  137885.891089   \n",
       "2017-03  260185.365854  266957.961783  ...  181757.894737  138864.108911   \n",
       "2017-04  261336.585366  268317.452229  ...  182252.631579  139768.564356   \n",
       "2017-05  261956.097561  269931.974522  ...  183010.526316  140698.514851   \n",
       "2017-06  261397.560976  271434.394904  ...  184315.789474  141625.990099   \n",
       "2017-07  261448.780488  273004.331210  ...  185515.789474  142529.950495   \n",
       "2017-08  262785.365854  274756.815287  ...  186005.263158  143395.049505   \n",
       "2017-09  263839.024390  276502.292994  ...  186068.421053  144192.574257   \n",
       "2017-10  265412.195122  277964.968153  ...  186310.526316  144935.643564   \n",
       "2017-11  269814.634146  279066.114650  ...  187157.894737  145673.267327   \n",
       "2017-12  274487.804878  280250.955414  ...  188426.315789  146519.306931   \n",
       "2018-01  277912.195122  281561.401274  ...  189621.052632  147265.841584   \n",
       "2018-02  279470.731707  283416.178344  ...  191110.526316  148351.980198   \n",
       "2018-03  276529.268293  286090.828025  ...  193236.842105  150242.079208   \n",
       "2018-04  271897.560976  288191.592357  ...  194715.789474  151884.158416   \n",
       "\n",
       "State               TX             UT             VA         VT  \\\n",
       "1996-04  109384.639831  159645.689655  122071.236559   82825.00   \n",
       "1996-05  109406.885593  159523.275862  122136.827957   82556.25   \n",
       "1996-06  109451.377119  159406.896552  122201.075269   82306.25   \n",
       "1996-07  109521.504237  159313.793103  122267.204301   82037.50   \n",
       "1996-08  109613.983051  159254.310345  122352.419355   81781.25   \n",
       "1996-09  109721.504237  159244.827586  122473.924731   81568.75   \n",
       "1996-10  109843.538136  159320.689655  122653.494624   81418.75   \n",
       "1996-11  109970.550847  159493.103448  122871.505376   81306.25   \n",
       "1996-12  110106.885593  159775.862069  123210.483871   81287.50   \n",
       "1997-01  110244.279661  160115.517241  123636.290323   81343.75   \n",
       "1997-02  110385.169492  160491.379310  124023.655914   81412.50   \n",
       "1997-03  110526.483051  160904.310345  124304.301075   81456.25   \n",
       "1997-04  110687.817797  161355.172414  124586.290323   81550.00   \n",
       "1997-05  110877.542373  161825.000000  124861.021505   81662.50   \n",
       "1997-06  111089.724576  162287.931034  125131.451613   81837.50   \n",
       "1997-07  111327.860169  162742.241379  125286.327078   82031.25   \n",
       "1997-08  111585.169492  163180.172414  125583.914209   82262.50   \n",
       "1997-09  111860.911017  163606.896552  125915.281501   82512.50   \n",
       "1997-10  112153.283898  164012.068966  126313.136729   82831.25   \n",
       "1997-11  112454.025424  164435.344828  126768.096515   83200.00   \n",
       "1997-12  112759.957627  164852.586207  127370.777480   83668.75   \n",
       "1998-01  113061.016949  165232.758621  127881.066667   84187.50   \n",
       "1998-02  113336.440678  165565.517241  128599.466667   84700.00   \n",
       "1998-03  113577.224576  165859.482759  129225.866667   85212.50   \n",
       "1998-04  113795.021186  166126.724138  129872.266667   85731.25   \n",
       "1998-05  113990.254237  166356.034483  130519.466667   86262.50   \n",
       "1998-06  114170.550847  166554.310345  131154.666667   86825.00   \n",
       "1998-07  114337.500000  166734.482759  131773.866667   87412.50   \n",
       "1998-08  114505.084746  166891.379310  132394.666667   88000.00   \n",
       "1998-09  114684.851695  167034.482759  133009.600000   88625.00   \n",
       "...                ...            ...            ...        ...   \n",
       "2015-11  168288.776542  255807.438017  259984.788030  202887.50   \n",
       "2015-12  169201.617796  257192.561983  260365.336658  203381.25   \n",
       "2016-01  170195.753286  258769.421488  260863.092269  203056.25   \n",
       "2016-02  171161.779575  260395.041322  261325.187032  202550.00   \n",
       "2016-03  172088.473205  262061.983471  261867.830424  202412.50   \n",
       "2016-04  173197.067745  264268.595041  262605.486284  202075.00   \n",
       "2016-05  174461.577351  266792.561983  263569.326683  201643.75   \n",
       "2016-06  175748.230536  269104.132231  264517.955112  201768.75   \n",
       "2016-07  177042.770475  271187.603306  265324.438903  202412.50   \n",
       "2016-08  178306.167846  273137.190083  266043.640898  202943.75   \n",
       "2016-09  179506.066734  275080.991736  266878.304239  202743.75   \n",
       "2016-10  180688.473205  277112.396694  267715.211970  202568.75   \n",
       "2016-11  181772.800809  279041.322314  268568.578554  202768.75   \n",
       "2016-12  182695.449949  280928.099174  269455.361596  204150.00   \n",
       "2017-01  183678.361982  282993.388430  270547.630923  206756.25   \n",
       "2017-02  184729.120324  284801.652893  271580.299252  208956.25   \n",
       "2017-03  185724.368049  286441.322314  272468.578554  209837.50   \n",
       "2017-04  186767.745197  288475.206612  273365.087282  210731.25   \n",
       "2017-05  187958.847321  291066.115702  274506.234414  211625.00   \n",
       "2017-06  189067.340748  293866.115702  275605.985037  212118.75   \n",
       "2017-07  189960.970677  296796.694215  276557.855362  212768.75   \n",
       "2017-08  190765.824065  299311.570248  277450.872818  214225.00   \n",
       "2017-09  191688.776542  301129.752066  278439.152120  215968.75   \n",
       "2017-10  192557.027300  302774.380165  279258.603491  217168.75   \n",
       "2017-11  193162.992922  304854.545455  279708.728180  217306.25   \n",
       "2017-12  193761.274014  307212.396694  280219.700748  216318.75   \n",
       "2018-01  194417.492417  309129.752066  280900.997506  214750.00   \n",
       "2018-02  195503.134479  311445.454545  282143.640898  213581.25   \n",
       "2018-03  197023.356926  314685.950413  284158.354115  213250.00   \n",
       "2018-04  198029.726997  317001.652893  285568.827930  213150.00   \n",
       "\n",
       "State               WA             WI             WV             WY  \n",
       "1996-04  140589.285714  115151.376147   66461.666667  138712.500000  \n",
       "1996-05  140838.988095  115099.388379   66575.000000  138762.500000  \n",
       "1996-06  141101.488095  115032.110092   66708.333333  138741.666667  \n",
       "1996-07  141378.571429  114940.672783   66848.333333  138641.666667  \n",
       "1996-08  141686.011905  114840.978593   67016.666667  138533.333333  \n",
       "1996-09  142026.488095  114756.880734   67196.666667  138412.500000  \n",
       "1996-10  142434.523810  114704.892966   67401.666667  138304.166667  \n",
       "1996-11  142895.833333  114685.932722   67635.000000  138225.000000  \n",
       "1996-12  143475.297619  114777.064220   67886.666667  138250.000000  \n",
       "1997-01  144152.380952  114957.186544   68181.666667  138337.500000  \n",
       "1997-02  144813.988095  115129.663609   68465.000000  138400.000000  \n",
       "1997-03  145407.142857  115235.779817   68738.333333  138391.666667  \n",
       "1997-04  146014.583333  115340.061162   69031.666667  138395.833333  \n",
       "1997-05  146627.083333  115424.464832   69340.000000  138358.333333  \n",
       "1997-06  147237.500000  115500.305810   69668.333333  138204.166667  \n",
       "1997-07  147861.309524  115552.905199   70016.666667  137987.500000  \n",
       "1997-08  148512.500000  115614.373089   70376.666667  137695.833333  \n",
       "1997-09  149194.345238  115692.966361   70745.000000  137379.166667  \n",
       "1997-10  149937.202381  115814.373089   71121.666667  137054.166667  \n",
       "1997-11  150740.178571  115982.568807   71505.000000  136741.666667  \n",
       "1997-12  151672.321429  116267.584098   71901.666667  136512.500000  \n",
       "1998-01  152690.476190  116654.740061   72288.333333  136362.500000  \n",
       "1998-02  153674.702381  117048.623853   72643.333333  136191.666667  \n",
       "1998-03  154572.916667  117401.529052   72963.333333  135991.666667  \n",
       "1998-04  155468.154762  117767.889908   73271.666667  135758.333333  \n",
       "1998-05  156324.702381  118136.697248   73563.333333  135504.166667  \n",
       "1998-06  157155.952381  118505.810398   73848.333333  135220.833333  \n",
       "1998-07  157955.059524  118872.171254   74113.333333  134891.666667  \n",
       "1998-08  158737.797619  119247.400612   74356.666667  134554.166667  \n",
       "1998-09  159500.892857  119652.599388   74593.333333  134258.333333  \n",
       "...                ...            ...            ...            ...  \n",
       "2015-11  309666.862170  172737.650602  118648.611111  216780.645161  \n",
       "2015-12  312240.175953  173499.096386  118793.055556  217274.193548  \n",
       "2016-01  315022.873900  174109.638554  118745.833333  217787.096774  \n",
       "2016-02  317867.741935  174727.409639  118600.000000  218270.967742  \n",
       "2016-03  320724.046921  175456.325301  118540.277778  219106.451613  \n",
       "2016-04  323699.120235  176420.180723  118638.888889  220145.161290  \n",
       "2016-05  326912.609971  177502.409639  118984.722222  221035.483871  \n",
       "2016-06  330515.542522  178545.180723  119466.666667  221854.838710  \n",
       "2016-07  334359.237537  179535.542169  119955.555556  222496.774194  \n",
       "2016-08  337785.043988  180594.578313  120202.777778  222780.645161  \n",
       "2016-09  340733.724340  181646.385542  120304.166667  223006.451613  \n",
       "2016-10  343657.771261  182598.192771  120480.555556  223303.225806  \n",
       "2016-11  346723.753666  183534.036145  120768.055556  223309.677419  \n",
       "2016-12  349664.516129  184421.385542  120848.611111  223051.612903  \n",
       "2017-01  353132.258065  185277.108434  120762.500000  222793.548387  \n",
       "2017-02  356775.659824  186040.662651  120466.666667  222680.645161  \n",
       "2017-03  359890.615836  186850.301205  120447.222222  222745.161290  \n",
       "2017-04  363562.756598  187787.951807  120848.611111  222961.290323  \n",
       "2017-05  368385.043988  188812.951807  121268.055556  223045.161290  \n",
       "2017-06  372732.551320  189769.578313  121655.555556  222932.258065  \n",
       "2017-07  376168.035191  190738.554217  122191.666667  223164.516129  \n",
       "2017-08  379200.586510  191665.963855  122726.388889  223938.709677  \n",
       "2017-09  382244.574780  192608.132530  123201.388889  224658.064516  \n",
       "2017-10  385615.835777  193565.361446  123587.500000  225403.225806  \n",
       "2017-11  389654.545455  194497.289157  123841.666667  226500.000000  \n",
       "2017-12  394339.589443  195418.072289  124022.222222  227525.806452  \n",
       "2018-01  398688.563050  196397.891566  124104.166667  228564.516129  \n",
       "2018-02  402129.912023  197306.024096  124334.722222  229938.709677  \n",
       "2018-03  405867.155425  198282.228916  124972.222222  230996.774194  \n",
       "2018-04  408570.381232  199015.361446  125476.388889  231338.709677  \n",
       "\n",
       "[265 rows x 50 columns]"
      ]
     },
     "execution_count": 26,
     "metadata": {},
     "output_type": "execute_result"
    }
   ],
   "source": [
    "transposed_state"
   ]
  },
  {
   "cell_type": "code",
   "execution_count": 7,
   "metadata": {},
   "outputs": [],
   "source": [
    "test = df[(df.RegionName.str.len() < 5)]"
   ]
  },
  {
   "cell_type": "code",
   "execution_count": 7,
   "metadata": {},
   "outputs": [],
   "source": [
    "# test"
   ]
  },
  {
   "cell_type": "code",
   "execution_count": 1,
   "metadata": {},
   "outputs": [],
   "source": [
    "# df.isna().sum()"
   ]
  },
  {
   "cell_type": "markdown",
   "metadata": {},
   "source": [
    "# Step 2: Data Preprocessing"
   ]
  },
  {
   "cell_type": "code",
   "execution_count": 12,
   "metadata": {},
   "outputs": [],
   "source": [
    "def get_datetimes(df, x):\n",
    "    return pd.to_datetime(df.columns.values[x:], format='%Y-%m')"
   ]
  },
  {
   "cell_type": "code",
   "execution_count": 13,
   "metadata": {},
   "outputs": [],
   "source": [
    "df.columns.values[7:] = get_datetimes(df, 7)"
   ]
  },
  {
   "cell_type": "code",
   "execution_count": 14,
   "metadata": {},
   "outputs": [
    {
     "data": {
      "text/plain": [
       "pandas._libs.tslibs.timestamps.Timestamp"
      ]
     },
     "execution_count": 14,
     "metadata": {},
     "output_type": "execute_result"
    }
   ],
   "source": [
    "type(df.columns.values[7])"
   ]
  },
  {
   "cell_type": "markdown",
   "metadata": {},
   "source": [
    "# Step 3: Reshape from Wide to Long Format"
   ]
  },
  {
   "cell_type": "code",
   "execution_count": 15,
   "metadata": {},
   "outputs": [],
   "source": [
    "def melt_data(df):\n",
    "    melted = pd.melt(df, id_vars=['RegionID', 'RegionName', 'City', 'State', 'Metro', 'CountyName', 'SizeRank'], var_name='time')\n",
    "    melted['time'] = pd.to_datetime(melted['time'], infer_datetime_format=True)\n",
    "    melted = melted.dropna(subset=['value'])\n",
    "    return melted.groupby('time').aggregate({'value':'mean'})\n"
   ]
  },
  {
   "cell_type": "code",
   "execution_count": 16,
   "metadata": {},
   "outputs": [],
   "source": [
    "long_df = melt_data(df)"
   ]
  },
  {
   "cell_type": "code",
   "execution_count": 17,
   "metadata": {},
   "outputs": [
    {
     "data": {
      "text/html": [
       "<div>\n",
       "<style scoped>\n",
       "    .dataframe tbody tr th:only-of-type {\n",
       "        vertical-align: middle;\n",
       "    }\n",
       "\n",
       "    .dataframe tbody tr th {\n",
       "        vertical-align: top;\n",
       "    }\n",
       "\n",
       "    .dataframe thead th {\n",
       "        text-align: right;\n",
       "    }\n",
       "</style>\n",
       "<table border=\"1\" class=\"dataframe\">\n",
       "  <thead>\n",
       "    <tr style=\"text-align: right;\">\n",
       "      <th></th>\n",
       "      <th>value</th>\n",
       "    </tr>\n",
       "    <tr>\n",
       "      <th>time</th>\n",
       "      <th></th>\n",
       "    </tr>\n",
       "  </thead>\n",
       "  <tbody>\n",
       "    <tr>\n",
       "      <th>1996-04-01</th>\n",
       "      <td>118299.123063</td>\n",
       "    </tr>\n",
       "    <tr>\n",
       "      <th>1996-05-01</th>\n",
       "      <td>118419.044139</td>\n",
       "    </tr>\n",
       "    <tr>\n",
       "      <th>1996-06-01</th>\n",
       "      <td>118537.423268</td>\n",
       "    </tr>\n",
       "    <tr>\n",
       "      <th>1996-07-01</th>\n",
       "      <td>118653.069278</td>\n",
       "    </tr>\n",
       "    <tr>\n",
       "      <th>1996-08-01</th>\n",
       "      <td>118780.254312</td>\n",
       "    </tr>\n",
       "  </tbody>\n",
       "</table>\n",
       "</div>"
      ],
      "text/plain": [
       "                    value\n",
       "time                     \n",
       "1996-04-01  118299.123063\n",
       "1996-05-01  118419.044139\n",
       "1996-06-01  118537.423268\n",
       "1996-07-01  118653.069278\n",
       "1996-08-01  118780.254312"
      ]
     },
     "execution_count": 17,
     "metadata": {},
     "output_type": "execute_result"
    }
   ],
   "source": [
    "long_df.head()"
   ]
  },
  {
   "cell_type": "code",
   "execution_count": 13,
   "metadata": {},
   "outputs": [],
   "source": [
    "def melt_eda(df):\n",
    "    melted = pd.melt(df, id_vars=['RegionID', 'RegionName', 'City', 'State', 'Metro', 'CountyName', 'SizeRank'], var_name='time')\n",
    "    melted['time'] = pd.to_datetime(melted['time'], infer_datetime_format=True)\n",
    "    melted = melted.dropna(subset=['value'])\n",
    "    return melted"
   ]
  },
  {
   "cell_type": "code",
   "execution_count": 14,
   "metadata": {},
   "outputs": [],
   "source": [
    "eda = melt_eda(df)"
   ]
  },
  {
   "cell_type": "markdown",
   "metadata": {},
   "source": [
    "# Step 4: EDA and Visualization\n",
    "Perform basic EDA as you would building any model, then create at least 3 visualizations.  At least one of the visualizations should have time on the x-axis.  Axes should be labeled and any text should be legible."
   ]
  },
  {
   "cell_type": "code",
   "execution_count": 170,
   "metadata": {},
   "outputs": [
    {
     "ename": "NameError",
     "evalue": "name 'matplotlib' is not defined",
     "output_type": "error",
     "traceback": [
      "\u001b[0;31m---------------------------------------------------------------------------\u001b[0m",
      "\u001b[0;31mNameError\u001b[0m                                 Traceback (most recent call last)",
      "\u001b[0;32m<ipython-input-170-5497e7cc54a0>\u001b[0m in \u001b[0;36m<module>\u001b[0;34m\u001b[0m\n\u001b[1;32m      3\u001b[0m         'size'   : 22}\n\u001b[1;32m      4\u001b[0m \u001b[0;34m\u001b[0m\u001b[0m\n\u001b[0;32m----> 5\u001b[0;31m \u001b[0mmatplotlib\u001b[0m\u001b[0;34m.\u001b[0m\u001b[0mrc\u001b[0m\u001b[0;34m(\u001b[0m\u001b[0;34m'font'\u001b[0m\u001b[0;34m,\u001b[0m \u001b[0;34m**\u001b[0m\u001b[0mfont\u001b[0m\u001b[0;34m)\u001b[0m\u001b[0;34m\u001b[0m\u001b[0;34m\u001b[0m\u001b[0m\n\u001b[0m\u001b[1;32m      6\u001b[0m \u001b[0;34m\u001b[0m\u001b[0m\n\u001b[1;32m      7\u001b[0m \u001b[0;31m# NOTE: if you visualizations are too cluttered to read, try calling 'plt.gcf().autofmt_xdate()'!\u001b[0m\u001b[0;34m\u001b[0m\u001b[0;34m\u001b[0m\u001b[0;34m\u001b[0m\u001b[0m\n",
      "\u001b[0;31mNameError\u001b[0m: name 'matplotlib' is not defined"
     ]
    }
   ],
   "source": [
    "font = {'family' : 'normal',\n",
    "        'weight' : 'bold',\n",
    "        'size'   : 22}\n",
    "\n",
    "matplotlib.rc('font', **font)\n",
    "\n",
    "# NOTE: if you visualizations are too cluttered to read, try calling 'plt.gcf().autofmt_xdate()'!"
   ]
  },
  {
   "cell_type": "code",
   "execution_count": 15,
   "metadata": {},
   "outputs": [],
   "source": [
    "import seaborn as sns"
   ]
  },
  {
   "cell_type": "code",
   "execution_count": 16,
   "metadata": {},
   "outputs": [],
   "source": [
    "def dist(df, x):\n",
    "    return sns.distplot(df[x])"
   ]
  },
  {
   "cell_type": "code",
   "execution_count": 17,
   "metadata": {},
   "outputs": [
    {
     "data": {
      "text/plain": [
       "<matplotlib.axes._subplots.AxesSubplot at 0x11b366908>"
      ]
     },
     "execution_count": 17,
     "metadata": {},
     "output_type": "execute_result"
    },
    {
     "data": {
      "image/png": "[encoded data removed]",
      "text/plain": [
       "<Figure size 432x288 with 1 Axes>"
      ]
     },
     "metadata": {
      "needs_background": "light"
     },
     "output_type": "display_data"
    }
   ],
   "source": [
    "dist(long_df, 'value')"
   ]
  },
  {
   "cell_type": "code",
   "execution_count": 19,
   "metadata": {},
   "outputs": [
    {
     "data": {
      "text/plain": [
       "<matplotlib.axes._subplots.AxesSubplot at 0x122f6ed68>"
      ]
     },
     "execution_count": 19,
     "metadata": {},
     "output_type": "execute_result"
    },
    {
     "data": {
      "image/png": "[encoded data removed]",
      "text/plain": [
       "<Figure size 432x288 with 1 Axes>"
      ]
     },
     "metadata": {
      "needs_background": "light"
     },
     "output_type": "display_data"
    }
   ],
   "source": [
    "long_df.plot()\n"
   ]
  },
  {
   "cell_type": "code",
   "execution_count": 20,
   "metadata": {},
   "outputs": [],
   "source": [
    "from statsmodels.tsa.stattools import adfuller\n"
   ]
  },
  {
   "cell_type": "code",
   "execution_count": 21,
   "metadata": {},
   "outputs": [],
   "source": [
    "def dfuller(df, param):\n",
    "    dfuller = adfuller(df[param][1:-1])\n",
    "    dfoutput = pd.Series(dfuller[0:4], index=['Test Statistic','p-value','#Lags Used','Number of Observations Used'])\n",
    "    return dfoutput"
   ]
  },
  {
   "cell_type": "code",
   "execution_count": 22,
   "metadata": {},
   "outputs": [],
   "source": [
    "def difference(df, old_param, new_name):\n",
    "    diff = df.diff().rename(index = str, columns = {old_param: new_name})\n",
    "    return diff"
   ]
  },
  {
   "cell_type": "code",
   "execution_count": 23,
   "metadata": {
    "scrolled": true
   },
   "outputs": [
    {
     "data": {
      "text/plain": [
       "Test Statistic                  -1.719639\n",
       "p-value                          0.421023\n",
       "#Lags Used                       2.000000\n",
       "Number of Observations Used    260.000000\n",
       "dtype: float64"
      ]
     },
     "execution_count": 23,
     "metadata": {},
     "output_type": "execute_result"
    }
   ],
   "source": [
    "dfuller(long_df, 'value')"
   ]
  },
  {
   "cell_type": "code",
   "execution_count": 26,
   "metadata": {},
   "outputs": [
    {
     "data": {
      "text/plain": [
       "<matplotlib.axes._subplots.AxesSubplot at 0x12c116240>"
      ]
     },
     "execution_count": 26,
     "metadata": {},
     "output_type": "execute_result"
    },
    {
     "data": {
      "image/png": "[encoded data removed]",
      "text/plain": [
       "<Figure size 432x288 with 1 Axes>"
      ]
     },
     "metadata": {
      "needs_background": "light"
     },
     "output_type": "display_data"
    }
   ],
   "source": [
    "diff1.plot()"
   ]
  },
  {
   "cell_type": "code",
   "execution_count": 24,
   "metadata": {},
   "outputs": [],
   "source": [
    "diff1 = difference(long_df, 'value', 'one diff')"
   ]
  },
  {
   "cell_type": "code",
   "execution_count": 27,
   "metadata": {
    "scrolled": true
   },
   "outputs": [
    {
     "data": {
      "text/plain": [
       "Test Statistic                  -2.439740\n",
       "p-value                          0.130833\n",
       "#Lags Used                      13.000000\n",
       "Number of Observations Used    249.000000\n",
       "dtype: float64"
      ]
     },
     "execution_count": 27,
     "metadata": {},
     "output_type": "execute_result"
    }
   ],
   "source": [
    "dfuller(diff1, 'one diff')"
   ]
  },
  {
   "cell_type": "code",
   "execution_count": 28,
   "metadata": {},
   "outputs": [],
   "source": [
    "diff2 = difference(diff1, 'one diff', 'two diff')"
   ]
  },
  {
   "cell_type": "code",
   "execution_count": 33,
   "metadata": {},
   "outputs": [
    {
     "data": {
      "text/plain": [
       "<matplotlib.axes._subplots.AxesSubplot at 0x12e603208>"
      ]
     },
     "execution_count": 33,
     "metadata": {},
     "output_type": "execute_result"
    },
    {
     "data": {
      "image/png": "[encoded data removed]",
      "text/plain": [
       "<Figure size 720x720 with 1 Axes>"
      ]
     },
     "metadata": {
      "needs_background": "light"
     },
     "output_type": "display_data"
    }
   ],
   "source": [
    "diff2.plot(figsize=(10,10))\n"
   ]
  },
  {
   "cell_type": "code",
   "execution_count": 30,
   "metadata": {},
   "outputs": [
    {
     "data": {
      "text/plain": [
       "Test Statistic                 -20.94711\n",
       "p-value                          0.00000\n",
       "#Lags Used                       0.00000\n",
       "Number of Observations Used    261.00000\n",
       "dtype: float64"
      ]
     },
     "execution_count": 30,
     "metadata": {},
     "output_type": "execute_result"
    }
   ],
   "source": [
    "dfuller(diff2[1:], 'two diff') #use lag = 2"
   ]
  },
  {
   "cell_type": "code",
   "execution_count": 37,
   "metadata": {},
   "outputs": [],
   "source": [
    "from statsmodels.graphics.tsaplots import plot_acf\n",
    "from statsmodels.graphics.tsaplots import plot_pacf\n"
   ]
  },
  {
   "cell_type": "code",
   "execution_count": 38,
   "metadata": {},
   "outputs": [],
   "source": [
    "import matplotlib.pyplot as plt"
   ]
  },
  {
   "cell_type": "code",
   "execution_count": 39,
   "metadata": {},
   "outputs": [],
   "source": [
    "def acf(df, alpha, lags):\n",
    "    return plot_acf(df[:-1], alpha = alpha, lags = lags)"
   ]
  },
  {
   "cell_type": "code",
   "execution_count": 42,
   "metadata": {},
   "outputs": [
    {
     "data": {
      "image/png": "[encoded data removed]",
      "text/plain": [
       "<Figure size 432x288 with 1 Axes>"
      ]
     },
     "execution_count": 42,
     "metadata": {},
     "output_type": "execute_result"
    },
    {
     "data": {
      "image/png": "[encoded data removed]",
      "text/plain": [
       "<Figure size 432x288 with 1 Axes>"
      ]
     },
     "metadata": {
      "needs_background": "light"
     },
     "output_type": "display_data"
    }
   ],
   "source": [
    "plot_acf(long_df[:-1], alpha = 0.05)"
   ]
  },
  {
   "cell_type": "code",
   "execution_count": 42,
   "metadata": {},
   "outputs": [
    {
     "data": {
      "image/png": "[encoded data removed]",
      "text/plain": [
       "<Figure size 432x288 with 1 Axes>"
      ]
     },
     "execution_count": 42,
     "metadata": {},
     "output_type": "execute_result"
    },
    {
     "data": {
      "image/png": "[encoded data removed]",
      "text/plain": [
       "<Figure size 432x288 with 1 Axes>"
      ]
     },
     "metadata": {
      "needs_background": "light"
     },
     "output_type": "display_data"
    }
   ],
   "source": [
    "acf(long_df, 0.05, 25)"
   ]
  },
  {
   "cell_type": "code",
   "execution_count": 46,
   "metadata": {},
   "outputs": [],
   "source": [
    "def pacf(df, alpha, lags):\n",
    "    return plot_pacf(df[:-1], alpha = alpha, lags = lags)"
   ]
  },
  {
   "cell_type": "code",
   "execution_count": null,
   "metadata": {},
   "outputs": [],
   "source": [
    "# is AR(1) because we can see that our PACF spikes at the first autocorrelation?\n",
    "# MA(0)"
   ]
  },
  {
   "cell_type": "code",
   "execution_count": 51,
   "metadata": {
    "scrolled": false
   },
   "outputs": [
    {
     "data": {
      "image/png": "[encoded data removed]",
      "text/plain": [
       "<Figure size 432x288 with 1 Axes>"
      ]
     },
     "execution_count": 51,
     "metadata": {},
     "output_type": "execute_result"
    },
    {
     "data": {
      "image/png": "[encoded data removed]",
      "text/plain": [
       "<Figure size 432x288 with 1 Axes>"
      ]
     },
     "metadata": {
      "needs_background": "light"
     },
     "output_type": "display_data"
    }
   ],
   "source": [
    "pacf(long_df, 0.05, 25)"
   ]
  },
  {
   "cell_type": "code",
   "execution_count": 63,
   "metadata": {
    "scrolled": false
   },
   "outputs": [
    {
     "ename": "NameError",
     "evalue": "name 'pyplot' is not defined",
     "output_type": "error",
     "traceback": [
      "\u001b[0;31m---------------------------------------------------------------------------\u001b[0m",
      "\u001b[0;31mNameError\u001b[0m                                 Traceback (most recent call last)",
      "\u001b[0;32m<ipython-input-63-62742dc42717>\u001b[0m in \u001b[0;36m<module>\u001b[0;34m\u001b[0m\n\u001b[1;32m      2\u001b[0m \u001b[0mresult\u001b[0m \u001b[0;34m=\u001b[0m \u001b[0mseasonal_decompose\u001b[0m\u001b[0;34m(\u001b[0m\u001b[0mlong_df\u001b[0m\u001b[0;34m,\u001b[0m \u001b[0mmodel\u001b[0m\u001b[0;34m=\u001b[0m\u001b[0;34m'additive'\u001b[0m\u001b[0;34m)\u001b[0m\u001b[0;34m\u001b[0m\u001b[0;34m\u001b[0m\u001b[0m\n\u001b[1;32m      3\u001b[0m \u001b[0mresult\u001b[0m\u001b[0;34m.\u001b[0m\u001b[0mplot\u001b[0m\u001b[0;34m(\u001b[0m\u001b[0;34m)\u001b[0m\u001b[0;34m\u001b[0m\u001b[0;34m\u001b[0m\u001b[0m\n\u001b[0;32m----> 4\u001b[0;31m \u001b[0mpyplot\u001b[0m\u001b[0;34m.\u001b[0m\u001b[0mshow\u001b[0m\u001b[0;34m(\u001b[0m\u001b[0;34m)\u001b[0m\u001b[0;34m\u001b[0m\u001b[0;34m\u001b[0m\u001b[0m\n\u001b[0m",
      "\u001b[0;31mNameError\u001b[0m: name 'pyplot' is not defined"
     ]
    },
    {
     "data": {
      "image/png": "[encoded data removed]",
      "text/plain": [
       "<Figure size 432x288 with 4 Axes>"
      ]
     },
     "metadata": {
      "needs_background": "light"
     },
     "output_type": "display_data"
    }
   ],
   "source": [
    "from statsmodels.tsa.seasonal import seasonal_decompose\n",
    "result = seasonal_decompose(long_df, model='additive')\n",
    "result.plot()\n",
    "pyplot.show()\n",
    "\n",
    "# seasonal -- s = 12"
   ]
  },
  {
   "cell_type": "code",
   "execution_count": 65,
   "metadata": {},
   "outputs": [],
   "source": [
    "import itertools"
   ]
  },
  {
   "cell_type": "markdown",
   "metadata": {},
   "source": [
    "running a grid search to determine PDQ values for seasonality"
   ]
  },
  {
   "cell_type": "code",
   "execution_count": 71,
   "metadata": {},
   "outputs": [],
   "source": [
    "p = d = q = range(0, 4)\n",
    "pdqs = [(x[0], x[1], x[2], 12) for x in list(itertools.product(p, d, q))]"
   ]
  },
  {
   "cell_type": "code",
   "execution_count": 90,
   "metadata": {},
   "outputs": [],
   "source": [
    "import statsmodels.api as sm"
   ]
  },
  {
   "cell_type": "code",
   "execution_count": 91,
   "metadata": {},
   "outputs": [
    {
     "name": "stderr",
     "output_type": "stream",
     "text": [
      "/Users/Natalie/anaconda3/lib/python3.7/site-packages/statsmodels/tsa/base/tsa_model.py:171: ValueWarning: No frequency information was provided, so inferred frequency MS will be used.\n",
      "  % freq, ValueWarning)\n",
      "/Users/Natalie/anaconda3/lib/python3.7/site-packages/statsmodels/tsa/base/tsa_model.py:191: FutureWarning: Creating a DatetimeIndex by passing range endpoints is deprecated.  Use `pandas.date_range` instead.\n",
      "  start=index[0], end=index[-1], freq=freq)\n",
      "/Users/Natalie/anaconda3/lib/python3.7/site-packages/statsmodels/tsa/base/tsa_model.py:171: ValueWarning: No frequency information was provided, so inferred frequency MS will be used.\n",
      "  % freq, ValueWarning)\n"
     ]
    },
    {
     "name": "stdout",
     "output_type": "stream",
     "text": [
      "(0, 0, 0, 12) 4475.332919259364\n",
      "(0, 0, 1, 12) 4152.100510164491\n"
     ]
    },
    {
     "name": "stderr",
     "output_type": "stream",
     "text": [
      "/Users/Natalie/anaconda3/lib/python3.7/site-packages/statsmodels/tsa/base/tsa_model.py:171: ValueWarning: No frequency information was provided, so inferred frequency MS will be used.\n",
      "  % freq, ValueWarning)\n"
     ]
    },
    {
     "name": "stdout",
     "output_type": "stream",
     "text": [
      "(0, 0, 2, 12) 4167.098694533761\n"
     ]
    },
    {
     "name": "stderr",
     "output_type": "stream",
     "text": [
      "/Users/Natalie/anaconda3/lib/python3.7/site-packages/statsmodels/tsa/base/tsa_model.py:171: ValueWarning: No frequency information was provided, so inferred frequency MS will be used.\n",
      "  % freq, ValueWarning)\n",
      "/Users/Natalie/anaconda3/lib/python3.7/site-packages/statsmodels/base/model.py:508: ConvergenceWarning: Maximum Likelihood optimization failed to converge. Check mle_retvals\n",
      "  \"Check mle_retvals\", ConvergenceWarning)\n",
      "/Users/Natalie/anaconda3/lib/python3.7/site-packages/statsmodels/tsa/base/tsa_model.py:171: ValueWarning: No frequency information was provided, so inferred frequency MS will be used.\n",
      "  % freq, ValueWarning)\n"
     ]
    },
    {
     "name": "stdout",
     "output_type": "stream",
     "text": [
      "(0, 0, 3, 12) 3772.9056516874634\n",
      "(0, 1, 0, 12) 4096.505523542265\n"
     ]
    },
    {
     "name": "stderr",
     "output_type": "stream",
     "text": [
      "/Users/Natalie/anaconda3/lib/python3.7/site-packages/statsmodels/tsa/base/tsa_model.py:171: ValueWarning: No frequency information was provided, so inferred frequency MS will be used.\n",
      "  % freq, ValueWarning)\n"
     ]
    },
    {
     "name": "stdout",
     "output_type": "stream",
     "text": [
      "(0, 1, 1, 12) 3901.58641006133\n"
     ]
    },
    {
     "name": "stderr",
     "output_type": "stream",
     "text": [
      "/Users/Natalie/anaconda3/lib/python3.7/site-packages/statsmodels/tsa/base/tsa_model.py:171: ValueWarning: No frequency information was provided, so inferred frequency MS will be used.\n",
      "  % freq, ValueWarning)\n",
      "/Users/Natalie/anaconda3/lib/python3.7/site-packages/statsmodels/base/model.py:508: ConvergenceWarning: Maximum Likelihood optimization failed to converge. Check mle_retvals\n",
      "  \"Check mle_retvals\", ConvergenceWarning)\n",
      "/Users/Natalie/anaconda3/lib/python3.7/site-packages/statsmodels/tsa/base/tsa_model.py:171: ValueWarning: No frequency information was provided, so inferred frequency MS will be used.\n",
      "  % freq, ValueWarning)\n"
     ]
    },
    {
     "name": "stdout",
     "output_type": "stream",
     "text": [
      "(0, 1, 2, 12) 3713.2484404942593\n",
      "(0, 1, 3, 12) 3602.025823381522\n"
     ]
    },
    {
     "name": "stderr",
     "output_type": "stream",
     "text": [
      "/Users/Natalie/anaconda3/lib/python3.7/site-packages/statsmodels/tsa/base/tsa_model.py:171: ValueWarning: No frequency information was provided, so inferred frequency MS will be used.\n",
      "  % freq, ValueWarning)\n"
     ]
    },
    {
     "name": "stdout",
     "output_type": "stream",
     "text": [
      "(0, 2, 0, 12) 4005.144483379586\n"
     ]
    },
    {
     "name": "stderr",
     "output_type": "stream",
     "text": [
      "/Users/Natalie/anaconda3/lib/python3.7/site-packages/statsmodels/tsa/base/tsa_model.py:171: ValueWarning: No frequency information was provided, so inferred frequency MS will be used.\n",
      "  % freq, ValueWarning)\n",
      "/Users/Natalie/anaconda3/lib/python3.7/site-packages/statsmodels/base/model.py:508: ConvergenceWarning: Maximum Likelihood optimization failed to converge. Check mle_retvals\n",
      "  \"Check mle_retvals\", ConvergenceWarning)\n",
      "/Users/Natalie/anaconda3/lib/python3.7/site-packages/statsmodels/tsa/base/tsa_model.py:171: ValueWarning: No frequency information was provided, so inferred frequency MS will be used.\n",
      "  % freq, ValueWarning)\n"
     ]
    },
    {
     "name": "stdout",
     "output_type": "stream",
     "text": [
      "(0, 2, 1, 12) 3822.154110523562\n"
     ]
    },
    {
     "name": "stderr",
     "output_type": "stream",
     "text": [
      "/Users/Natalie/anaconda3/lib/python3.7/site-packages/statsmodels/base/model.py:508: ConvergenceWarning: Maximum Likelihood optimization failed to converge. Check mle_retvals\n",
      "  \"Check mle_retvals\", ConvergenceWarning)\n"
     ]
    },
    {
     "name": "stdout",
     "output_type": "stream",
     "text": [
      "(0, 2, 2, 12) 3596.4548914827224\n"
     ]
    },
    {
     "name": "stderr",
     "output_type": "stream",
     "text": [
      "/Users/Natalie/anaconda3/lib/python3.7/site-packages/statsmodels/tsa/base/tsa_model.py:171: ValueWarning: No frequency information was provided, so inferred frequency MS will be used.\n",
      "  % freq, ValueWarning)\n",
      "/Users/Natalie/anaconda3/lib/python3.7/site-packages/statsmodels/base/model.py:508: ConvergenceWarning: Maximum Likelihood optimization failed to converge. Check mle_retvals\n",
      "  \"Check mle_retvals\", ConvergenceWarning)\n"
     ]
    },
    {
     "name": "stdout",
     "output_type": "stream",
     "text": [
      "(0, 2, 3, 12) 3403.023998121399\n"
     ]
    },
    {
     "name": "stderr",
     "output_type": "stream",
     "text": [
      "/Users/Natalie/anaconda3/lib/python3.7/site-packages/statsmodels/tsa/base/tsa_model.py:171: ValueWarning: No frequency information was provided, so inferred frequency MS will be used.\n",
      "  % freq, ValueWarning)\n"
     ]
    },
    {
     "name": "stdout",
     "output_type": "stream",
     "text": [
      "(0, 3, 0, 12) 12629.59999854129\n"
     ]
    },
    {
     "name": "stderr",
     "output_type": "stream",
     "text": [
      "/Users/Natalie/anaconda3/lib/python3.7/site-packages/statsmodels/tsa/base/tsa_model.py:171: ValueWarning: No frequency information was provided, so inferred frequency MS will be used.\n",
      "  % freq, ValueWarning)\n"
     ]
    },
    {
     "name": "stdout",
     "output_type": "stream",
     "text": [
      "(0, 3, 1, 12) 9083.733440737293\n"
     ]
    },
    {
     "name": "stderr",
     "output_type": "stream",
     "text": [
      "/Users/Natalie/anaconda3/lib/python3.7/site-packages/statsmodels/tsa/base/tsa_model.py:171: ValueWarning: No frequency information was provided, so inferred frequency MS will be used.\n",
      "  % freq, ValueWarning)\n"
     ]
    },
    {
     "name": "stdout",
     "output_type": "stream",
     "text": [
      "(0, 3, 2, 12) 4686.750290776298\n"
     ]
    },
    {
     "name": "stderr",
     "output_type": "stream",
     "text": [
      "/Users/Natalie/anaconda3/lib/python3.7/site-packages/statsmodels/tsa/base/tsa_model.py:171: ValueWarning: No frequency information was provided, so inferred frequency MS will be used.\n",
      "  % freq, ValueWarning)\n",
      "/Users/Natalie/anaconda3/lib/python3.7/site-packages/statsmodels/base/model.py:508: ConvergenceWarning: Maximum Likelihood optimization failed to converge. Check mle_retvals\n",
      "  \"Check mle_retvals\", ConvergenceWarning)\n"
     ]
    },
    {
     "name": "stdout",
     "output_type": "stream",
     "text": [
      "(0, 3, 3, 12) 4628.311397621276\n",
      "(1, 0, 0, 12) 4133.639848477933\n"
     ]
    },
    {
     "name": "stderr",
     "output_type": "stream",
     "text": [
      "/Users/Natalie/anaconda3/lib/python3.7/site-packages/statsmodels/tsa/base/tsa_model.py:171: ValueWarning: No frequency information was provided, so inferred frequency MS will be used.\n",
      "  % freq, ValueWarning)\n",
      "/Users/Natalie/anaconda3/lib/python3.7/site-packages/statsmodels/tsa/base/tsa_model.py:171: ValueWarning: No frequency information was provided, so inferred frequency MS will be used.\n",
      "  % freq, ValueWarning)\n"
     ]
    },
    {
     "name": "stdout",
     "output_type": "stream",
     "text": [
      "(1, 0, 1, 12) 4153.572086567655\n"
     ]
    },
    {
     "name": "stderr",
     "output_type": "stream",
     "text": [
      "/Users/Natalie/anaconda3/lib/python3.7/site-packages/statsmodels/tsa/base/tsa_model.py:171: ValueWarning: No frequency information was provided, so inferred frequency MS will be used.\n",
      "  % freq, ValueWarning)\n"
     ]
    },
    {
     "name": "stdout",
     "output_type": "stream",
     "text": [
      "(1, 0, 2, 12) 3930.675935110102\n"
     ]
    },
    {
     "name": "stderr",
     "output_type": "stream",
     "text": [
      "/Users/Natalie/anaconda3/lib/python3.7/site-packages/statsmodels/tsa/base/tsa_model.py:171: ValueWarning: No frequency information was provided, so inferred frequency MS will be used.\n",
      "  % freq, ValueWarning)\n",
      "/Users/Natalie/anaconda3/lib/python3.7/site-packages/statsmodels/base/model.py:508: ConvergenceWarning: Maximum Likelihood optimization failed to converge. Check mle_retvals\n",
      "  \"Check mle_retvals\", ConvergenceWarning)\n",
      "/Users/Natalie/anaconda3/lib/python3.7/site-packages/statsmodels/tsa/base/tsa_model.py:171: ValueWarning: No frequency information was provided, so inferred frequency MS will be used.\n",
      "  % freq, ValueWarning)\n"
     ]
    },
    {
     "name": "stdout",
     "output_type": "stream",
     "text": [
      "(1, 0, 3, 12) 3742.48735183765\n",
      "(1, 1, 0, 12) 3897.3629917294516\n"
     ]
    },
    {
     "name": "stderr",
     "output_type": "stream",
     "text": [
      "/Users/Natalie/anaconda3/lib/python3.7/site-packages/statsmodels/tsa/base/tsa_model.py:171: ValueWarning: No frequency information was provided, so inferred frequency MS will be used.\n",
      "  % freq, ValueWarning)\n"
     ]
    },
    {
     "name": "stdout",
     "output_type": "stream",
     "text": [
      "(1, 1, 1, 12) 3896.120642679641\n"
     ]
    },
    {
     "name": "stderr",
     "output_type": "stream",
     "text": [
      "/Users/Natalie/anaconda3/lib/python3.7/site-packages/statsmodels/tsa/base/tsa_model.py:171: ValueWarning: No frequency information was provided, so inferred frequency MS will be used.\n",
      "  % freq, ValueWarning)\n"
     ]
    },
    {
     "name": "stdout",
     "output_type": "stream",
     "text": [
      "(1, 1, 2, 12) 3743.500031980479\n"
     ]
    },
    {
     "name": "stderr",
     "output_type": "stream",
     "text": [
      "/Users/Natalie/anaconda3/lib/python3.7/site-packages/statsmodels/tsa/base/tsa_model.py:171: ValueWarning: No frequency information was provided, so inferred frequency MS will be used.\n",
      "  % freq, ValueWarning)\n"
     ]
    },
    {
     "name": "stdout",
     "output_type": "stream",
     "text": [
      "(1, 1, 3, 12) 3548.172762663654\n"
     ]
    },
    {
     "name": "stderr",
     "output_type": "stream",
     "text": [
      "/Users/Natalie/anaconda3/lib/python3.7/site-packages/statsmodels/tsa/base/tsa_model.py:171: ValueWarning: No frequency information was provided, so inferred frequency MS will be used.\n",
      "  % freq, ValueWarning)\n"
     ]
    },
    {
     "name": "stdout",
     "output_type": "stream",
     "text": [
      "(1, 2, 0, 12) 3800.217085298658\n"
     ]
    },
    {
     "name": "stderr",
     "output_type": "stream",
     "text": [
      "/Users/Natalie/anaconda3/lib/python3.7/site-packages/statsmodels/tsa/base/tsa_model.py:171: ValueWarning: No frequency information was provided, so inferred frequency MS will be used.\n",
      "  % freq, ValueWarning)\n"
     ]
    },
    {
     "name": "stdout",
     "output_type": "stream",
     "text": [
      "(1, 2, 1, 12) 3801.88713198475\n"
     ]
    },
    {
     "name": "stderr",
     "output_type": "stream",
     "text": [
      "/Users/Natalie/anaconda3/lib/python3.7/site-packages/statsmodels/tsa/base/tsa_model.py:171: ValueWarning: No frequency information was provided, so inferred frequency MS will be used.\n",
      "  % freq, ValueWarning)\n"
     ]
    },
    {
     "name": "stdout",
     "output_type": "stream",
     "text": [
      "(1, 2, 2, 12) 3631.7056765235147\n"
     ]
    },
    {
     "name": "stderr",
     "output_type": "stream",
     "text": [
      "/Users/Natalie/anaconda3/lib/python3.7/site-packages/statsmodels/tsa/base/tsa_model.py:171: ValueWarning: No frequency information was provided, so inferred frequency MS will be used.\n",
      "  % freq, ValueWarning)\n"
     ]
    },
    {
     "name": "stdout",
     "output_type": "stream",
     "text": [
      "(1, 2, 3, 12) 3379.1926413212504\n"
     ]
    },
    {
     "name": "stderr",
     "output_type": "stream",
     "text": [
      "/Users/Natalie/anaconda3/lib/python3.7/site-packages/statsmodels/tsa/base/tsa_model.py:171: ValueWarning: No frequency information was provided, so inferred frequency MS will be used.\n",
      "  % freq, ValueWarning)\n"
     ]
    },
    {
     "name": "stdout",
     "output_type": "stream",
     "text": [
      "(1, 3, 0, 12) 8785.308905542179\n"
     ]
    },
    {
     "name": "stderr",
     "output_type": "stream",
     "text": [
      "/Users/Natalie/anaconda3/lib/python3.7/site-packages/statsmodels/tsa/base/tsa_model.py:171: ValueWarning: No frequency information was provided, so inferred frequency MS will be used.\n",
      "  % freq, ValueWarning)\n",
      "/Users/Natalie/anaconda3/lib/python3.7/site-packages/statsmodels/base/model.py:508: ConvergenceWarning: Maximum Likelihood optimization failed to converge. Check mle_retvals\n",
      "  \"Check mle_retvals\", ConvergenceWarning)\n"
     ]
    },
    {
     "name": "stdout",
     "output_type": "stream",
     "text": [
      "(1, 3, 1, 12) 8843.774569124062\n"
     ]
    },
    {
     "name": "stderr",
     "output_type": "stream",
     "text": [
      "/Users/Natalie/anaconda3/lib/python3.7/site-packages/statsmodels/tsa/base/tsa_model.py:171: ValueWarning: No frequency information was provided, so inferred frequency MS will be used.\n",
      "  % freq, ValueWarning)\n"
     ]
    },
    {
     "name": "stdout",
     "output_type": "stream",
     "text": [
      "(1, 3, 2, 12) 4689.151499719712\n"
     ]
    },
    {
     "name": "stderr",
     "output_type": "stream",
     "text": [
      "/Users/Natalie/anaconda3/lib/python3.7/site-packages/statsmodels/tsa/base/tsa_model.py:171: ValueWarning: No frequency information was provided, so inferred frequency MS will be used.\n",
      "  % freq, ValueWarning)\n",
      "/Users/Natalie/anaconda3/lib/python3.7/site-packages/statsmodels/base/model.py:508: ConvergenceWarning: Maximum Likelihood optimization failed to converge. Check mle_retvals\n",
      "  \"Check mle_retvals\", ConvergenceWarning)\n"
     ]
    },
    {
     "name": "stdout",
     "output_type": "stream",
     "text": [
      "(1, 3, 3, 12) 4686.7860684956795\n"
     ]
    },
    {
     "name": "stderr",
     "output_type": "stream",
     "text": [
      "/Users/Natalie/anaconda3/lib/python3.7/site-packages/statsmodels/tsa/base/tsa_model.py:171: ValueWarning: No frequency information was provided, so inferred frequency MS will be used.\n",
      "  % freq, ValueWarning)\n",
      "/Users/Natalie/anaconda3/lib/python3.7/site-packages/statsmodels/base/model.py:508: ConvergenceWarning: Maximum Likelihood optimization failed to converge. Check mle_retvals\n",
      "  \"Check mle_retvals\", ConvergenceWarning)\n",
      "/Users/Natalie/anaconda3/lib/python3.7/site-packages/statsmodels/tsa/base/tsa_model.py:171: ValueWarning: No frequency information was provided, so inferred frequency MS will be used.\n",
      "  % freq, ValueWarning)\n"
     ]
    },
    {
     "name": "stdout",
     "output_type": "stream",
     "text": [
      "(2, 0, 0, 12) 3839.7230382580724\n",
      "(2, 0, 1, 12) 3925.686256673023\n"
     ]
    },
    {
     "name": "stderr",
     "output_type": "stream",
     "text": [
      "/Users/Natalie/anaconda3/lib/python3.7/site-packages/statsmodels/tsa/base/tsa_model.py:171: ValueWarning: No frequency information was provided, so inferred frequency MS will be used.\n",
      "  % freq, ValueWarning)\n",
      "/Users/Natalie/anaconda3/lib/python3.7/site-packages/statsmodels/base/model.py:508: ConvergenceWarning: Maximum Likelihood optimization failed to converge. Check mle_retvals\n",
      "  \"Check mle_retvals\", ConvergenceWarning)\n",
      "/Users/Natalie/anaconda3/lib/python3.7/site-packages/statsmodels/tsa/base/tsa_model.py:171: ValueWarning: No frequency information was provided, so inferred frequency MS will be used.\n",
      "  % freq, ValueWarning)\n"
     ]
    },
    {
     "name": "stdout",
     "output_type": "stream",
     "text": [
      "(2, 0, 2, 12) 3937.4840534184177\n"
     ]
    },
    {
     "name": "stderr",
     "output_type": "stream",
     "text": [
      "/Users/Natalie/anaconda3/lib/python3.7/site-packages/statsmodels/base/model.py:508: ConvergenceWarning: Maximum Likelihood optimization failed to converge. Check mle_retvals\n",
      "  \"Check mle_retvals\", ConvergenceWarning)\n"
     ]
    },
    {
     "name": "stdout",
     "output_type": "stream",
     "text": [
      "(2, 0, 3, 12) 3743.194918920915\n"
     ]
    },
    {
     "name": "stderr",
     "output_type": "stream",
     "text": [
      "/Users/Natalie/anaconda3/lib/python3.7/site-packages/statsmodels/tsa/base/tsa_model.py:171: ValueWarning: No frequency information was provided, so inferred frequency MS will be used.\n",
      "  % freq, ValueWarning)\n"
     ]
    },
    {
     "name": "stdout",
     "output_type": "stream",
     "text": [
      "(2, 1, 0, 12) 3711.508825174328\n"
     ]
    },
    {
     "name": "stderr",
     "output_type": "stream",
     "text": [
      "/Users/Natalie/anaconda3/lib/python3.7/site-packages/statsmodels/tsa/base/tsa_model.py:171: ValueWarning: No frequency information was provided, so inferred frequency MS will be used.\n",
      "  % freq, ValueWarning)\n",
      "/Users/Natalie/anaconda3/lib/python3.7/site-packages/statsmodels/base/model.py:508: ConvergenceWarning: Maximum Likelihood optimization failed to converge. Check mle_retvals\n",
      "  \"Check mle_retvals\", ConvergenceWarning)\n",
      "/Users/Natalie/anaconda3/lib/python3.7/site-packages/statsmodels/tsa/base/tsa_model.py:171: ValueWarning: No frequency information was provided, so inferred frequency MS will be used.\n",
      "  % freq, ValueWarning)\n"
     ]
    },
    {
     "name": "stdout",
     "output_type": "stream",
     "text": [
      "(2, 1, 1, 12) 3714.220771524653\n",
      "(2, 1, 2, 12) 3716.0570893447148\n"
     ]
    },
    {
     "name": "stderr",
     "output_type": "stream",
     "text": [
      "/Users/Natalie/anaconda3/lib/python3.7/site-packages/statsmodels/tsa/base/tsa_model.py:171: ValueWarning: No frequency information was provided, so inferred frequency MS will be used.\n",
      "  % freq, ValueWarning)\n"
     ]
    },
    {
     "name": "stdout",
     "output_type": "stream",
     "text": [
      "(2, 1, 3, 12) 3519.6600247067436\n"
     ]
    },
    {
     "name": "stderr",
     "output_type": "stream",
     "text": [
      "/Users/Natalie/anaconda3/lib/python3.7/site-packages/statsmodels/tsa/base/tsa_model.py:171: ValueWarning: No frequency information was provided, so inferred frequency MS will be used.\n",
      "  % freq, ValueWarning)\n"
     ]
    },
    {
     "name": "stdout",
     "output_type": "stream",
     "text": [
      "(2, 2, 0, 12) 3597.5217671399696\n"
     ]
    },
    {
     "name": "stderr",
     "output_type": "stream",
     "text": [
      "/Users/Natalie/anaconda3/lib/python3.7/site-packages/statsmodels/tsa/base/tsa_model.py:171: ValueWarning: No frequency information was provided, so inferred frequency MS will be used.\n",
      "  % freq, ValueWarning)\n"
     ]
    },
    {
     "name": "stdout",
     "output_type": "stream",
     "text": [
      "(2, 2, 1, 12) 3607.4512136210983\n"
     ]
    },
    {
     "name": "stderr",
     "output_type": "stream",
     "text": [
      "/Users/Natalie/anaconda3/lib/python3.7/site-packages/statsmodels/tsa/base/tsa_model.py:171: ValueWarning: No frequency information was provided, so inferred frequency MS will be used.\n",
      "  % freq, ValueWarning)\n",
      "/Users/Natalie/anaconda3/lib/python3.7/site-packages/statsmodels/base/model.py:508: ConvergenceWarning: Maximum Likelihood optimization failed to converge. Check mle_retvals\n",
      "  \"Check mle_retvals\", ConvergenceWarning)\n"
     ]
    },
    {
     "name": "stdout",
     "output_type": "stream",
     "text": [
      "(2, 2, 2, 12) 3602.430470123546\n"
     ]
    },
    {
     "name": "stderr",
     "output_type": "stream",
     "text": [
      "/Users/Natalie/anaconda3/lib/python3.7/site-packages/statsmodels/tsa/base/tsa_model.py:171: ValueWarning: No frequency information was provided, so inferred frequency MS will be used.\n",
      "  % freq, ValueWarning)\n"
     ]
    },
    {
     "name": "stdout",
     "output_type": "stream",
     "text": [
      "(2, 2, 3, 12) 3380.6849658459605\n"
     ]
    },
    {
     "name": "stderr",
     "output_type": "stream",
     "text": [
      "/Users/Natalie/anaconda3/lib/python3.7/site-packages/statsmodels/tsa/base/tsa_model.py:171: ValueWarning: No frequency information was provided, so inferred frequency MS will be used.\n",
      "  % freq, ValueWarning)\n"
     ]
    },
    {
     "name": "stdout",
     "output_type": "stream",
     "text": [
      "(2, 3, 0, 12) 7169.325751813087\n"
     ]
    },
    {
     "name": "stderr",
     "output_type": "stream",
     "text": [
      "/Users/Natalie/anaconda3/lib/python3.7/site-packages/statsmodels/tsa/base/tsa_model.py:171: ValueWarning: No frequency information was provided, so inferred frequency MS will be used.\n",
      "  % freq, ValueWarning)\n",
      "/Users/Natalie/anaconda3/lib/python3.7/site-packages/statsmodels/base/model.py:508: ConvergenceWarning: Maximum Likelihood optimization failed to converge. Check mle_retvals\n",
      "  \"Check mle_retvals\", ConvergenceWarning)\n"
     ]
    },
    {
     "name": "stdout",
     "output_type": "stream",
     "text": [
      "(2, 3, 1, 12) 7300.993191633711\n"
     ]
    },
    {
     "name": "stderr",
     "output_type": "stream",
     "text": [
      "/Users/Natalie/anaconda3/lib/python3.7/site-packages/statsmodels/tsa/base/tsa_model.py:171: ValueWarning: No frequency information was provided, so inferred frequency MS will be used.\n",
      "  % freq, ValueWarning)\n"
     ]
    },
    {
     "name": "stdout",
     "output_type": "stream",
     "text": [
      "(2, 3, 2, 12) 4625.005689283285\n"
     ]
    },
    {
     "name": "stderr",
     "output_type": "stream",
     "text": [
      "/Users/Natalie/anaconda3/lib/python3.7/site-packages/statsmodels/tsa/base/tsa_model.py:171: ValueWarning: No frequency information was provided, so inferred frequency MS will be used.\n",
      "  % freq, ValueWarning)\n",
      "/Users/Natalie/anaconda3/lib/python3.7/site-packages/statsmodels/base/model.py:508: ConvergenceWarning: Maximum Likelihood optimization failed to converge. Check mle_retvals\n",
      "  \"Check mle_retvals\", ConvergenceWarning)\n"
     ]
    },
    {
     "name": "stdout",
     "output_type": "stream",
     "text": [
      "(2, 3, 3, 12) 4394.639897615829\n"
     ]
    },
    {
     "name": "stderr",
     "output_type": "stream",
     "text": [
      "/Users/Natalie/anaconda3/lib/python3.7/site-packages/statsmodels/tsa/base/tsa_model.py:171: ValueWarning: No frequency information was provided, so inferred frequency MS will be used.\n",
      "  % freq, ValueWarning)\n"
     ]
    },
    {
     "name": "stdout",
     "output_type": "stream",
     "text": [
      "(3, 0, 0, 12) 3733.1913381558825\n"
     ]
    },
    {
     "name": "stderr",
     "output_type": "stream",
     "text": [
      "/Users/Natalie/anaconda3/lib/python3.7/site-packages/statsmodels/tsa/base/tsa_model.py:171: ValueWarning: No frequency information was provided, so inferred frequency MS will be used.\n",
      "  % freq, ValueWarning)\n"
     ]
    },
    {
     "name": "stdout",
     "output_type": "stream",
     "text": [
      "(3, 0, 1, 12) 3735.169145502414\n"
     ]
    },
    {
     "name": "stderr",
     "output_type": "stream",
     "text": [
      "/Users/Natalie/anaconda3/lib/python3.7/site-packages/statsmodels/tsa/base/tsa_model.py:171: ValueWarning: No frequency information was provided, so inferred frequency MS will be used.\n",
      "  % freq, ValueWarning)\n",
      "/Users/Natalie/anaconda3/lib/python3.7/site-packages/statsmodels/base/model.py:508: ConvergenceWarning: Maximum Likelihood optimization failed to converge. Check mle_retvals\n",
      "  \"Check mle_retvals\", ConvergenceWarning)\n",
      "/Users/Natalie/anaconda3/lib/python3.7/site-packages/statsmodels/tsa/base/tsa_model.py:171: ValueWarning: No frequency information was provided, so inferred frequency MS will be used.\n",
      "  % freq, ValueWarning)\n"
     ]
    },
    {
     "name": "stdout",
     "output_type": "stream",
     "text": [
      "(3, 0, 2, 12) 3737.008705731053\n"
     ]
    },
    {
     "name": "stderr",
     "output_type": "stream",
     "text": [
      "/Users/Natalie/anaconda3/lib/python3.7/site-packages/statsmodels/base/model.py:508: ConvergenceWarning: Maximum Likelihood optimization failed to converge. Check mle_retvals\n",
      "  \"Check mle_retvals\", ConvergenceWarning)\n"
     ]
    },
    {
     "name": "stdout",
     "output_type": "stream",
     "text": [
      "(3, 0, 3, 12) 3739.8613871737043\n"
     ]
    },
    {
     "name": "stderr",
     "output_type": "stream",
     "text": [
      "/Users/Natalie/anaconda3/lib/python3.7/site-packages/statsmodels/tsa/base/tsa_model.py:171: ValueWarning: No frequency information was provided, so inferred frequency MS will be used.\n",
      "  % freq, ValueWarning)\n"
     ]
    },
    {
     "name": "stdout",
     "output_type": "stream",
     "text": [
      "(3, 1, 0, 12) 3527.554263207405\n"
     ]
    },
    {
     "name": "stderr",
     "output_type": "stream",
     "text": [
      "/Users/Natalie/anaconda3/lib/python3.7/site-packages/statsmodels/tsa/base/tsa_model.py:171: ValueWarning: No frequency information was provided, so inferred frequency MS will be used.\n",
      "  % freq, ValueWarning)\n"
     ]
    },
    {
     "name": "stdout",
     "output_type": "stream",
     "text": [
      "(3, 1, 1, 12) 3546.0155513086243\n"
     ]
    },
    {
     "name": "stderr",
     "output_type": "stream",
     "text": [
      "/Users/Natalie/anaconda3/lib/python3.7/site-packages/statsmodels/tsa/base/tsa_model.py:171: ValueWarning: No frequency information was provided, so inferred frequency MS will be used.\n",
      "  % freq, ValueWarning)\n"
     ]
    },
    {
     "name": "stdout",
     "output_type": "stream",
     "text": [
      "(3, 1, 2, 12) 3549.7772462643584\n"
     ]
    },
    {
     "name": "stderr",
     "output_type": "stream",
     "text": [
      "/Users/Natalie/anaconda3/lib/python3.7/site-packages/statsmodels/tsa/base/tsa_model.py:171: ValueWarning: No frequency information was provided, so inferred frequency MS will be used.\n",
      "  % freq, ValueWarning)\n"
     ]
    },
    {
     "name": "stdout",
     "output_type": "stream",
     "text": [
      "(3, 1, 3, 12) 3550.5782563856396\n"
     ]
    },
    {
     "name": "stderr",
     "output_type": "stream",
     "text": [
      "/Users/Natalie/anaconda3/lib/python3.7/site-packages/statsmodels/tsa/base/tsa_model.py:171: ValueWarning: No frequency information was provided, so inferred frequency MS will be used.\n",
      "  % freq, ValueWarning)\n"
     ]
    },
    {
     "name": "stdout",
     "output_type": "stream",
     "text": [
      "(3, 2, 0, 12) 3407.1646089554156\n"
     ]
    },
    {
     "name": "stderr",
     "output_type": "stream",
     "text": [
      "/Users/Natalie/anaconda3/lib/python3.7/site-packages/statsmodels/tsa/base/tsa_model.py:171: ValueWarning: No frequency information was provided, so inferred frequency MS will be used.\n",
      "  % freq, ValueWarning)\n"
     ]
    },
    {
     "name": "stdout",
     "output_type": "stream",
     "text": [
      "(3, 2, 1, 12) 3379.291094732681\n"
     ]
    },
    {
     "name": "stderr",
     "output_type": "stream",
     "text": [
      "/Users/Natalie/anaconda3/lib/python3.7/site-packages/statsmodels/tsa/base/tsa_model.py:171: ValueWarning: No frequency information was provided, so inferred frequency MS will be used.\n",
      "  % freq, ValueWarning)\n",
      "/Users/Natalie/anaconda3/lib/python3.7/site-packages/statsmodels/base/model.py:508: ConvergenceWarning: Maximum Likelihood optimization failed to converge. Check mle_retvals\n",
      "  \"Check mle_retvals\", ConvergenceWarning)\n"
     ]
    },
    {
     "name": "stdout",
     "output_type": "stream",
     "text": [
      "(3, 2, 2, 12) 3381.0553780884325\n"
     ]
    },
    {
     "name": "stderr",
     "output_type": "stream",
     "text": [
      "/Users/Natalie/anaconda3/lib/python3.7/site-packages/statsmodels/tsa/base/tsa_model.py:171: ValueWarning: No frequency information was provided, so inferred frequency MS will be used.\n",
      "  % freq, ValueWarning)\n",
      "/Users/Natalie/anaconda3/lib/python3.7/site-packages/statsmodels/base/model.py:508: ConvergenceWarning: Maximum Likelihood optimization failed to converge. Check mle_retvals\n",
      "  \"Check mle_retvals\", ConvergenceWarning)\n"
     ]
    },
    {
     "name": "stdout",
     "output_type": "stream",
     "text": [
      "(3, 2, 3, 12) 3382.418538461441\n"
     ]
    },
    {
     "name": "stderr",
     "output_type": "stream",
     "text": [
      "/Users/Natalie/anaconda3/lib/python3.7/site-packages/statsmodels/tsa/base/tsa_model.py:171: ValueWarning: No frequency information was provided, so inferred frequency MS will be used.\n",
      "  % freq, ValueWarning)\n"
     ]
    },
    {
     "name": "stdout",
     "output_type": "stream",
     "text": [
      "(3, 3, 0, 12) 5866.344434451947\n"
     ]
    },
    {
     "name": "stderr",
     "output_type": "stream",
     "text": [
      "/Users/Natalie/anaconda3/lib/python3.7/site-packages/statsmodels/tsa/base/tsa_model.py:171: ValueWarning: No frequency information was provided, so inferred frequency MS will be used.\n",
      "  % freq, ValueWarning)\n"
     ]
    },
    {
     "name": "stdout",
     "output_type": "stream",
     "text": [
      "(3, 3, 1, 12) 6253.8892920664575\n"
     ]
    },
    {
     "name": "stderr",
     "output_type": "stream",
     "text": [
      "/Users/Natalie/anaconda3/lib/python3.7/site-packages/statsmodels/tsa/base/tsa_model.py:171: ValueWarning: No frequency information was provided, so inferred frequency MS will be used.\n",
      "  % freq, ValueWarning)\n"
     ]
    },
    {
     "name": "stdout",
     "output_type": "stream",
     "text": [
      "(3, 3, 2, 12) 4300.469851071393\n"
     ]
    },
    {
     "name": "stderr",
     "output_type": "stream",
     "text": [
      "/Users/Natalie/anaconda3/lib/python3.7/site-packages/statsmodels/tsa/base/tsa_model.py:171: ValueWarning: No frequency information was provided, so inferred frequency MS will be used.\n",
      "  % freq, ValueWarning)\n"
     ]
    },
    {
     "name": "stdout",
     "output_type": "stream",
     "text": [
      "(3, 3, 3, 12) 6152.614517071463\n"
     ]
    }
   ],
   "source": [
    "ans = []\n",
    "for combs in pdqs:\n",
    "    try:\n",
    "        mod = sm.tsa.statespace.SARIMAX(long_df,\n",
    "                                        seasonal_order=combs,\n",
    "                                        enforce_stationarity=False,\n",
    "                                        enforce_invertibility=False)\n",
    "        output = mod.fit()\n",
    "        print(combs, output.aic)\n",
    "        ans.append([combs, output.aic])\n",
    "#         print('ARIMA {} x {}12 : AIC Calculated ={}'.format(comb, combs, output.aic))\n",
    "    except Exception as e:\n",
    "        print(e)"
   ]
  },
  {
   "cell_type": "code",
   "execution_count": 96,
   "metadata": {},
   "outputs": [
    {
     "data": {
      "text/plain": [
       "pdqs    (1, 2, 3, 12)\n",
       "aic           3379.19\n",
       "Name: 27, dtype: object"
      ]
     },
     "execution_count": 96,
     "metadata": {},
     "output_type": "execute_result"
    }
   ],
   "source": [
    "ans_df = pd.DataFrame(ans, columns=['pdqs', 'aic'])\n",
    "ans_df.loc[ans_df['aic'].idxmin()]"
   ]
  },
  {
   "cell_type": "code",
   "execution_count": 97,
   "metadata": {},
   "outputs": [],
   "source": [
    "pdq_baseline = (1, 2, 0)\n",
    "PDQS_baseline = (1, 2, 3, 12)"
   ]
  },
  {
   "cell_type": "code",
   "execution_count": 131,
   "metadata": {},
   "outputs": [
    {
     "name": "stdout",
     "output_type": "stream",
     "text": [
      "212.0\n",
      "212\n"
     ]
    }
   ],
   "source": [
    "print(len(long_df) * 0.8)\n",
    "train = long_df[:212]\n",
    "print(len(train))"
   ]
  },
  {
   "cell_type": "code",
   "execution_count": 135,
   "metadata": {},
   "outputs": [
    {
     "name": "stdout",
     "output_type": "stream",
     "text": [
      "53.0\n",
      "53\n"
     ]
    }
   ],
   "source": [
    "print(len(long_df)*0.2)\n",
    "test = long_df[212:]\n",
    "print(len(test))"
   ]
  },
  {
   "cell_type": "code",
   "execution_count": 173,
   "metadata": {
    "scrolled": true
   },
   "outputs": [
    {
     "name": "stderr",
     "output_type": "stream",
     "text": [
      "/Users/Natalie/anaconda3/lib/python3.7/site-packages/statsmodels/tsa/base/tsa_model.py:171: ValueWarning: No frequency information was provided, so inferred frequency MS will be used.\n",
      "  % freq, ValueWarning)\n"
     ]
    },
    {
     "name": "stdout",
     "output_type": "stream",
     "text": [
      "                                 Statespace Model Results                                 \n",
      "==========================================================================================\n",
      "Dep. Variable:                              value   No. Observations:                  212\n",
      "Model:             SARIMAX(1, 2, 0)x(1, 2, 3, 12)   Log Likelihood               -1144.759\n",
      "Date:                            Fri, 26 Jul 2019   AIC                           2301.518\n",
      "Time:                                    15:30:37   BIC                           2319.542\n",
      "Sample:                                04-01-1996   HQIC                          2308.841\n",
      "                                     - 11-01-2013                                         \n",
      "Covariance Type:                              opg                                         \n",
      "==============================================================================\n",
      "                 coef    std err          z      P>|z|      [0.025      0.975]\n",
      "------------------------------------------------------------------------------\n",
      "ar.L1         -0.2830      0.056     -5.043      0.000      -0.393      -0.173\n",
      "ar.S.L12      -0.6136      0.058    -10.577      0.000      -0.727      -0.500\n",
      "ma.S.L12      -0.3940      0.053     -7.401      0.000      -0.498      -0.290\n",
      "ma.S.L24      -0.2370      0.064     -3.685      0.000      -0.363      -0.111\n",
      "ma.S.L36       0.2056      0.044      4.659      0.000       0.119       0.292\n",
      "sigma2      2.598e+05   1.53e+04     16.993      0.000     2.3e+05     2.9e+05\n",
      "===================================================================================\n",
      "Ljung-Box (Q):                       40.27   Jarque-Bera (JB):               562.19\n",
      "Prob(Q):                              0.46   Prob(JB):                         0.00\n",
      "Heteroskedasticity (H):               2.28   Skew:                             0.49\n",
      "Prob(H) (two-sided):                  0.00   Kurtosis:                        12.47\n",
      "===================================================================================\n",
      "\n",
      "Warnings:\n",
      "[1] Covariance matrix calculated using the outer product of gradients (complex-step).\n"
     ]
    }
   ],
   "source": [
    "ARIMA_MODEL = sm.tsa.statespace.SARIMAX(train,\n",
    "                                order=pdq_baseline,\n",
    "                                seasonal_order=PDQS_baseline,\n",
    "                                enforce_stationarity=False,\n",
    "                                enforce_invertibility=False)\n",
    "\n",
    "output = ARIMA_MODEL.fit()\n",
    "\n",
    "print(output.summary().tables[1])"
   ]
  },
  {
   "cell_type": "code",
   "execution_count": 141,
   "metadata": {
    "scrolled": true
   },
   "outputs": [
    {
     "data": {
      "image/png": "[encoded data removed]",
      "text/plain": [
       "<Figure size 1080x1296 with 4 Axes>"
      ]
     },
     "metadata": {
      "needs_background": "light"
     },
     "output_type": "display_data"
    }
   ],
   "source": [
    "output.plot_diagnostics(figsize=(15, 18))\n",
    "plt.show()"
   ]
  },
  {
   "cell_type": "code",
   "execution_count": 156,
   "metadata": {},
   "outputs": [],
   "source": [
    "from pandas import datetime"
   ]
  },
  {
   "cell_type": "code",
   "execution_count": 168,
   "metadata": {},
   "outputs": [
    {
     "name": "stderr",
     "output_type": "stream",
     "text": [
      "/Users/Natalie/anaconda3/lib/python3.7/site-packages/statsmodels/tsa/base/tsa_model.py:336: FutureWarning: Creating a DatetimeIndex by passing range endpoints is deprecated.  Use `pandas.date_range` instead.\n",
      "  freq=base_index.freq)\n"
     ]
    }
   ],
   "source": [
    "start_index = datetime(1996, 4, 1)\n",
    "end_index = datetime(2018, 4, 1)\n",
    "forecast = output.predict(start=start_index, end=end_index)[1:]"
   ]
  },
  {
   "cell_type": "code",
   "execution_count": 169,
   "metadata": {},
   "outputs": [
    {
     "data": {
      "image/png": "[encoded data removed]",
      "text/plain": [
       "<Figure size 432x288 with 1 Axes>"
      ]
     },
     "metadata": {
      "needs_background": "light"
     },
     "output_type": "display_data"
    }
   ],
   "source": [
    "plt.plot(forecast)\n",
    "plt.plot(long_df)\n",
    "plt.show()"
   ]
  },
  {
   "cell_type": "markdown",
   "metadata": {},
   "source": [
    "# Step 5: ARIMA Modeling\n",
    "Be sure to validate your model.  Make a forecast for the future and describe the trend."
   ]
  },
  {
   "cell_type": "code",
   "execution_count": null,
   "metadata": {},
   "outputs": [],
   "source": [
    "#validation: one-step ahead forecasting, dynamic forecasting"
   ]
  },
  {
   "cell_type": "code",
   "execution_count": null,
   "metadata": {},
   "outputs": [],
   "source": []
  },
  {
   "cell_type": "markdown",
   "metadata": {},
   "source": [
    "# Step 6: Interpreting Results\n",
    "Give a detailed interpretation of results including the relationship between the inputs and output of the model."
   ]
  },
  {
   "cell_type": "code",
   "execution_count": null,
   "metadata": {},
   "outputs": [],
   "source": []
  },
  {
   "cell_type": "code",
   "execution_count": null,
   "metadata": {},
   "outputs": [],
   "source": []
  },
  {
   "cell_type": "code",
   "execution_count": null,
   "metadata": {},
   "outputs": [],
   "source": []
  }
 ],
 "metadata": {
  "kernelspec": {
   "display_name": "Python 3",
   "language": "python",
   "name": "python3"
  },
  "language_info": {
   "codemirror_mode": {
    "name": "ipython",
    "version": 3
   },
   "file_extension": ".py",
   "mimetype": "text/x-python",
   "name": "python",
   "nbconvert_exporter": "python",
   "pygments_lexer": "ipython3",
   "version": "3.7.3"
  }
 },
 "nbformat": 4,
 "nbformat_minor": 2
}
